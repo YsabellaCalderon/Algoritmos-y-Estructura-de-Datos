{
  "nbformat": 4,
  "nbformat_minor": 0,
  "metadata": {
    "colab": {
      "name": "Parcial.ipynb",
      "provenance": [],
      "collapsed_sections": []
    },
    "kernelspec": {
      "name": "python3",
      "display_name": "Python 3"
    }
  },
  "cells": [
    {
      "cell_type": "code",
      "metadata": {
        "id": "rYz760D-t3qq",
        "colab_type": "code",
        "colab": {
          "base_uri": "https://localhost:8080/",
          "height": 122
        },
        "outputId": "91ae5e54-acba-4a4a-d830-a3c1b8425d17"
      },
      "source": [
        "#Busca en mercado libre algún producto que te guste que no sea carros ni el tema que usaste para el taller, \n",
        "#utilizando web scraping logra recolectar todos los títulos junto con sus precios. (Valor 1.0)\n",
        "\n",
        "\n",
        "import requests \n",
        "url = 'https://listado.mercadolibre.com.co/smart-tv#D%5BA:smart%20tv%5D'\n",
        "response = requests.get (url)\n",
        "print (response)\n",
        "\n",
        "import bs4\n",
        "\n",
        "parseo = bs4.BeautifulSoup (response.text, 'html.parser')\n",
        "getDataSelect = lambda clase : parseo.select(clase)\n",
        "dataTitle = parseo.select ('.ui-search-item__title')\n",
        "dataPrice = getDataSelect('.price-tag-fraction')\n",
        "print (dataTitle)\n",
        "print (dataPrice)\n",
        "nombreTV = []\n",
        "funcionExtraerTexto = lambda elemento : elemento.text\n",
        "funcionListaDatos = lambda funcion, data :  list (map (funcion,data))\n",
        "nombreTV = funcionListaDatos(funcionExtraerTexto, dataTitle)\n",
        "\n",
        "print (nombreTV)\n",
        "listaPrecios = funcionListaDatos(funcionExtraerTexto, dataPrice)\n",
        "print (listaPrecios)"
      ],
      "execution_count": 59,
      "outputs": [
        {
          "output_type": "stream",
          "text": [
            "<Response [200]>\n",
            "[<h2 class=\"ui-search-item__title\">Televisor Tedge 50 Pulgadas Uhd Smart </h2>, <h2 class=\"ui-search-item__title\">Televisor Hyundai 32 Pulgadas Hd Smart - Hyled3243nim</h2>, <h2 class=\"ui-search-item__title\">Televisor Hyundai 40 Pulgadas Fhd Smart - Hyled4021nim</h2>, <h2 class=\"ui-search-item__title\">Televisor Full Hd Smart Tv 2020 Un43t5300</h2>, <h2 class=\"ui-search-item__title\">Televisor Tedge 58 Pulgadas 4k Uhd Smart </h2>, <h2 class=\"ui-search-item__title\">Televisor Hyundai 50 Pulgadas 4k Smart Diseño Sin Borde</h2>, <h2 class=\"ui-search-item__title\">Televisor Tedge 58 Pulgadas 4k Uhd Smart </h2>, <h2 class=\"ui-search-item__title\">Televisor Tedge 50 Pulgadas Uhd Smart </h2>, <h2 class=\"ui-search-item__title\">Televisor Hyundai 55 Pulgadas 4k Uhd Smart - Hyled5519n4km</h2>, <h2 class=\"ui-search-item__title\">Televisor Caixun 32 Smart Tv Hd Negro</h2>, <h2 class=\"ui-search-item__title\">Tv Samsung 50tu8000 Led 4k Uhd Crystal 50 PLG Voz Magic 2020</h2>, <h2 class=\"ui-search-item__title\">Combo Samsung Smart Tv 50 4k + Barra De Sonido Hwt400</h2>, <h2 class=\"ui-search-item__title\">Televisor Caixun 50 Pulgadas Led 4k Ultra Hd Smart Tv</h2>, <h2 class=\"ui-search-item__title\">Televisor Hyundai 58 Pulgadas 4k Smart Diseño Sin Borde</h2>, <h2 class=\"ui-search-item__title\">Tv Samsung 58 (147 Cm) Smart 4k Uhd</h2>, <h2 class=\"ui-search-item__title\">Tv LG 28  Pulgadas 70 Cm 28tl525s Led Hd Plano Smart Tv</h2>, <h2 class=\"ui-search-item__title\">Tv Led Smart Tv Kalley Hdsfbt 32¨ Hd Usb Hdmi Internet Tdt2</h2>, <h2 class=\"ui-search-item__title\">Televisor Samsung 55ru7300 55p Curvo 4k Smarttv 2019</h2>, <h2 class=\"ui-search-item__title\">Televisor Hyundai 43 Pulgadas Fhd Smart - Hyled4319nim</h2>, <h2 class=\"ui-search-item__title\">Televisor LG 32lm630 Led Hd - Active Hdr - Sonido Virtual Su</h2>, <h2 class=\"ui-search-item__title\">Combo Samsung Smart Tv 50 4k + Barra De Sonido Hwt400</h2>, <h2 class=\"ui-search-item__title\">Televisor Samsung 55ru7100 55p 2019 Smart Tv 4k Bluetooth</h2>, <h2 class=\"ui-search-item__title\">Televisor 43 PuLG Caixun 4k Smart Tdt </h2>, <h2 class=\"ui-search-item__title\">Tv Samsung 43tu8000 Led 4k Uhd Crystal 43 PLG Voz Magic 2020</h2>, <h2 class=\"ui-search-item__title\">Tv Samsung 58 (147 Cm) Smart 4k Uhd</h2>, <h2 class=\"ui-search-item__title\">Televisor Caixun 43 Pulgadas 4k Uhd Ledcx43p28fsm</h2>, <h2 class=\"ui-search-item__title\">Televisor Samsung 65tu7000 65 PLG 2020 Crystal 4k Bluetooth</h2>, <h2 class=\"ui-search-item__title\">Tv Samsung 55tu8000 Led 4k Uhd Crystal 55 PLG Voz Magic 2020</h2>, <h2 class=\"ui-search-item__title\">Tv Samsung 50 (127 Cm) Smart 4k Ultra Hd</h2>, <h2 class=\"ui-search-item__title\">Televisor Samsung 75ru7100 75p 2019 Smart Tv 4k Bluetooth</h2>, <h2 class=\"ui-search-item__title\">Televisor Samsung 43 Led Smart Tv Un43t5300 Fhd 2020</h2>, <h2 class=\"ui-search-item__title\">Televisor Samsung 43 Pulgadas Smartv Full Hd Tdt</h2>, <h2 class=\"ui-search-item__title\">Televisor Hyundai 43 Pulgadas Fhd Smart Diseño Sin Borde</h2>, <h2 class=\"ui-search-item__title\">Televisor LG 43 Led Full Hd Smart Tv Tdt 43lm6300pdb </h2>, <h2 class=\"ui-search-item__title\">Televisor Led Samsung Un32j4300 Tdt Smart Tv 32 Pulgadas</h2>, <h2 class=\"ui-search-item__title\">Televisor Led Samsung 32t4300 Tdt Smart Tv 32 Pg Modelo 2020</h2>, <h2 class=\"ui-search-item__title\">Televisor Samsung 32  Hd Smart Tv Un32j4290akxzl</h2>, <h2 class=\"ui-search-item__title\">Televisor Samsung Smart 58  Led Uhd 4k Crystal 2020</h2>, <h2 class=\"ui-search-item__title\">Tv Hyundai 32 (80 Cm) Smart Hd</h2>, <h2 class=\"ui-search-item__title\">Televisor Exclusiv 32 Hd Smart Tv</h2>, <h2 class=\"ui-search-item__title\">Televisor Exclusiv 32  Hd Smart Tv El32p28sm</h2>, <h2 class=\"ui-search-item__title\">Televisor Intec Int324iled Smart Led Hd Wifi Garantia 1 Año</h2>, <h2 class=\"ui-search-item__title\">Tv Samsung 43 (110 Cm) Smart Led Crystal 4k Ultra Hd </h2>, <h2 class=\"ui-search-item__title\">Televisor 43` Samsung Led Fhd Smart Tv 109 Cms Un43t5300akxz</h2>, <h2 class=\"ui-search-item__title\">Televisor Led Caixun Cx6519nus 65 Pulgadas Uhd Smart 4k Blue</h2>, <h2 class=\"ui-search-item__title\">Televisor Samsung Smart 32 Pulgadas 32j4290a Nuevos</h2>, <h2 class=\"ui-search-item__title\">Televisor Caixun Ultrahd Cx43p28 43 Pulgadas Tdt Smart Tv 4k</h2>, <h2 class=\"ui-search-item__title\">Forro Silicona Control Tv Samsung Por Voz Smart 4k Sikaicase</h2>, <h2 class=\"ui-search-item__title\">Televisor Smartv 32  Caixun Tdt Led Garantia 2 Años Netflix</h2>, <h2 class=\"ui-search-item__title\">Televisor Kalley Smart 32 Pulgadas 81 Cm,netflix ,bluetooth,</h2>]\n",
            "[<span class=\"price-tag-fraction\">2.799.900</span>, <span class=\"price-tag-fraction\">1.199.900</span>, <span class=\"price-tag-fraction\">99.992</span>, <span class=\"price-tag-fraction\">857.000</span>, <span class=\"price-tag-fraction\">619.900</span>, <span class=\"price-tag-fraction\">17.219</span>, <span class=\"price-tag-fraction\">1.271.285</span>, <span class=\"price-tag-fraction\">899.900</span>, <span class=\"price-tag-fraction\">24.997</span>, <span class=\"price-tag-fraction\">1.159.900</span>, <span class=\"price-tag-fraction\">32.219</span>, <span class=\"price-tag-fraction\">3.399.900</span>, <span class=\"price-tag-fraction\">1.499.000</span>, <span class=\"price-tag-fraction\">41.639</span>, <span class=\"price-tag-fraction\">1.928.428</span>, <span class=\"price-tag-fraction\">1.299.900</span>, <span class=\"price-tag-fraction\">36.108</span>, <span class=\"price-tag-fraction\">3.299.900</span>, <span class=\"price-tag-fraction\">1.499.900</span>, <span class=\"price-tag-fraction\">124.992</span>, <span class=\"price-tag-fraction\">2.799.900</span>, <span class=\"price-tag-fraction\">1.199.000</span>, <span class=\"price-tag-fraction\">33.306</span>, <span class=\"price-tag-fraction\">1.499.900</span>, <span class=\"price-tag-fraction\">41.664</span>, <span class=\"price-tag-fraction\">689.900</span>, <span class=\"price-tag-fraction\">609.900</span>, <span class=\"price-tag-fraction\">16.942</span>, <span class=\"price-tag-fraction\">2.999.900</span>, <span class=\"price-tag-fraction\">1.529.900</span>, <span class=\"price-tag-fraction\">42.497</span>, <span class=\"price-tag-fraction\">1.810.000</span>, <span class=\"price-tag-fraction\">150.833</span>, <span class=\"price-tag-fraction\">1.439.900</span>, <span class=\"price-tag-fraction\">1.279.900</span>, <span class=\"price-tag-fraction\">35.553</span>, <span class=\"price-tag-fraction\">1.599.900</span>, <span class=\"price-tag-fraction\">44.442</span>, <span class=\"price-tag-fraction\">1.770.000</span>, <span class=\"price-tag-fraction\">147.500</span>, <span class=\"price-tag-fraction\">729.900</span>, <span class=\"price-tag-fraction\">20.275</span>, <span class=\"price-tag-fraction\">779.990</span>, <span class=\"price-tag-fraction\">21.666</span>, <span class=\"price-tag-fraction\">3.299.900</span>, <span class=\"price-tag-fraction\">1.989.900</span>, <span class=\"price-tag-fraction\">55.275</span>, <span class=\"price-tag-fraction\">999.900</span>, <span class=\"price-tag-fraction\">27.775</span>, <span class=\"price-tag-fraction\">1.149.900</span>, <span class=\"price-tag-fraction\">798.000</span>, <span class=\"price-tag-fraction\">66.500</span>, <span class=\"price-tag-fraction\">1.810.000</span>, <span class=\"price-tag-fraction\">50.278</span>, <span class=\"price-tag-fraction\">3.299.900</span>, <span class=\"price-tag-fraction\">1.699.900</span>, <span class=\"price-tag-fraction\">47.219</span>, <span class=\"price-tag-fraction\">979.900</span>, <span class=\"price-tag-fraction\">27.219</span>, <span class=\"price-tag-fraction\">2.199.900</span>, <span class=\"price-tag-fraction\">1.279.900</span>, <span class=\"price-tag-fraction\">35.553</span>, <span class=\"price-tag-fraction\">1.809.000</span>, <span class=\"price-tag-fraction\">50.250</span>, <span class=\"price-tag-fraction\">959.900</span>, <span class=\"price-tag-fraction\">26.664</span>, <span class=\"price-tag-fraction\">4.499.900</span>, <span class=\"price-tag-fraction\">2.379.900</span>, <span class=\"price-tag-fraction\">66.108</span>, <span class=\"price-tag-fraction\">2.999.900</span>, <span class=\"price-tag-fraction\">1.749.900</span>, <span class=\"price-tag-fraction\">48.608</span>, <span class=\"price-tag-fraction\">1.499.000</span>, <span class=\"price-tag-fraction\">41.639</span>, <span class=\"price-tag-fraction\">9.999.900</span>, <span class=\"price-tag-fraction\">3.649.900</span>, <span class=\"price-tag-fraction\">101.386</span>, <span class=\"price-tag-fraction\">1.999.900</span>, <span class=\"price-tag-fraction\">1.179.900</span>, <span class=\"price-tag-fraction\">32.775</span>, <span class=\"price-tag-fraction\">1.379.900</span>, <span class=\"price-tag-fraction\">38.331</span>, <span class=\"price-tag-fraction\">1.385.571</span>, <span class=\"price-tag-fraction\">969.900</span>, <span class=\"price-tag-fraction\">26.942</span>, <span class=\"price-tag-fraction\">1.299.900</span>, <span class=\"price-tag-fraction\">36.108</span>, <span class=\"price-tag-fraction\">1.099.999</span>, <span class=\"price-tag-fraction\">749.900</span>, <span class=\"price-tag-fraction\">20.831</span>, <span class=\"price-tag-fraction\">1.299.900</span>, <span class=\"price-tag-fraction\">749.900</span>, <span class=\"price-tag-fraction\">20.831</span>, <span class=\"price-tag-fraction\">979.900</span>, <span class=\"price-tag-fraction\">27.219</span>, <span class=\"price-tag-fraction\">2.099.900</span>, <span class=\"price-tag-fraction\">58.331</span>, <span class=\"price-tag-fraction\">642.000</span>, <span class=\"price-tag-fraction\">17.833</span>, <span class=\"price-tag-fraction\">589.900</span>, <span class=\"price-tag-fraction\">16.386</span>, <span class=\"price-tag-fraction\">699.900</span>, <span class=\"price-tag-fraction\">579.900</span>, <span class=\"price-tag-fraction\">16.108</span>, <span class=\"price-tag-fraction\">549.900</span>, <span class=\"price-tag-fraction\">15.275</span>, <span class=\"price-tag-fraction\">1.366.000</span>, <span class=\"price-tag-fraction\">37.944</span>, <span class=\"price-tag-fraction\">1.418.138</span>, <span class=\"price-tag-fraction\">1.249.900</span>, <span class=\"price-tag-fraction\">34.719</span>, <span class=\"price-tag-fraction\">2.699.900</span>, <span class=\"price-tag-fraction\">1.679.900</span>, <span class=\"price-tag-fraction\">46.664</span>, <span class=\"price-tag-fraction\">799.000</span>, <span class=\"price-tag-fraction\">22.194</span>, <span class=\"price-tag-fraction\">1.050.000</span>, <span class=\"price-tag-fraction\">29.167</span>, <span class=\"price-tag-fraction\">29.900</span>, <span class=\"price-tag-fraction\">2.492</span>, <span class=\"price-tag-fraction\">599.900</span>, <span class=\"price-tag-fraction\">16.664</span>, <span class=\"price-tag-fraction\">695.000</span>, <span class=\"price-tag-fraction\">19.306</span>]\n",
            "['Televisor Tedge 50 Pulgadas Uhd Smart ', 'Televisor Hyundai 32 Pulgadas Hd Smart - Hyled3243nim', 'Televisor Hyundai 40 Pulgadas Fhd Smart - Hyled4021nim', 'Televisor Full Hd Smart Tv 2020 Un43t5300', 'Televisor Tedge 58 Pulgadas 4k Uhd Smart ', 'Televisor Hyundai 50 Pulgadas 4k Smart Diseño Sin Borde', 'Televisor Tedge 58 Pulgadas 4k Uhd Smart ', 'Televisor Tedge 50 Pulgadas Uhd Smart ', 'Televisor Hyundai 55 Pulgadas 4k Uhd Smart - Hyled5519n4km', 'Televisor Caixun 32 Smart Tv Hd Negro', 'Tv Samsung 50tu8000 Led 4k Uhd Crystal 50 PLG Voz Magic 2020', 'Combo Samsung Smart Tv 50 4k + Barra De Sonido Hwt400', 'Televisor Caixun 50 Pulgadas Led 4k Ultra Hd Smart Tv', 'Televisor Hyundai 58 Pulgadas 4k Smart Diseño Sin Borde', 'Tv Samsung 58 (147 Cm) Smart 4k Uhd', 'Tv LG 28  Pulgadas 70 Cm 28tl525s Led Hd Plano Smart Tv', 'Tv Led Smart Tv Kalley Hdsfbt 32¨ Hd Usb Hdmi Internet Tdt2', 'Televisor Samsung 55ru7300 55p Curvo 4k Smarttv 2019', 'Televisor Hyundai 43 Pulgadas Fhd Smart - Hyled4319nim', 'Televisor LG 32lm630 Led Hd - Active Hdr - Sonido Virtual Su', 'Combo Samsung Smart Tv 50 4k + Barra De Sonido Hwt400', 'Televisor Samsung 55ru7100 55p 2019 Smart Tv 4k Bluetooth', 'Televisor 43 PuLG Caixun 4k Smart Tdt ', 'Tv Samsung 43tu8000 Led 4k Uhd Crystal 43 PLG Voz Magic 2020', 'Tv Samsung 58 (147 Cm) Smart 4k Uhd', 'Televisor Caixun 43 Pulgadas 4k Uhd Ledcx43p28fsm', 'Televisor Samsung 65tu7000 65 PLG 2020 Crystal 4k Bluetooth', 'Tv Samsung 55tu8000 Led 4k Uhd Crystal 55 PLG Voz Magic 2020', 'Tv Samsung 50 (127 Cm) Smart 4k Ultra Hd', 'Televisor Samsung 75ru7100 75p 2019 Smart Tv 4k Bluetooth', 'Televisor Samsung 43 Led Smart Tv Un43t5300 Fhd 2020', 'Televisor Samsung 43 Pulgadas Smartv Full Hd Tdt', 'Televisor Hyundai 43 Pulgadas Fhd Smart Diseño Sin Borde', 'Televisor LG 43 Led Full Hd Smart Tv Tdt 43lm6300pdb ', 'Televisor Led Samsung Un32j4300 Tdt Smart Tv 32 Pulgadas', 'Televisor Led Samsung 32t4300 Tdt Smart Tv 32 Pg Modelo 2020', 'Televisor Samsung 32  Hd Smart Tv Un32j4290akxzl', 'Televisor Samsung Smart 58  Led Uhd 4k Crystal 2020', 'Tv Hyundai 32 (80 Cm) Smart Hd', 'Televisor Exclusiv 32 Hd Smart Tv', 'Televisor Exclusiv 32  Hd Smart Tv El32p28sm', 'Televisor Intec Int324iled Smart Led Hd Wifi Garantia 1 Año', 'Tv Samsung 43 (110 Cm) Smart Led Crystal 4k Ultra Hd ', 'Televisor 43` Samsung Led Fhd Smart Tv 109 Cms Un43t5300akxz', 'Televisor Led Caixun Cx6519nus 65 Pulgadas Uhd Smart 4k Blue', 'Televisor Samsung Smart 32 Pulgadas 32j4290a Nuevos', 'Televisor Caixun Ultrahd Cx43p28 43 Pulgadas Tdt Smart Tv 4k', 'Forro Silicona Control Tv Samsung Por Voz Smart 4k Sikaicase', 'Televisor Smartv 32  Caixun Tdt Led Garantia 2 Años Netflix', 'Televisor Kalley Smart 32 Pulgadas 81 Cm,netflix ,bluetooth,']\n",
            "['2.799.900', '1.199.900', '99.992', '857.000', '619.900', '17.219', '1.271.285', '899.900', '24.997', '1.159.900', '32.219', '3.399.900', '1.499.000', '41.639', '1.928.428', '1.299.900', '36.108', '3.299.900', '1.499.900', '124.992', '2.799.900', '1.199.000', '33.306', '1.499.900', '41.664', '689.900', '609.900', '16.942', '2.999.900', '1.529.900', '42.497', '1.810.000', '150.833', '1.439.900', '1.279.900', '35.553', '1.599.900', '44.442', '1.770.000', '147.500', '729.900', '20.275', '779.990', '21.666', '3.299.900', '1.989.900', '55.275', '999.900', '27.775', '1.149.900', '798.000', '66.500', '1.810.000', '50.278', '3.299.900', '1.699.900', '47.219', '979.900', '27.219', '2.199.900', '1.279.900', '35.553', '1.809.000', '50.250', '959.900', '26.664', '4.499.900', '2.379.900', '66.108', '2.999.900', '1.749.900', '48.608', '1.499.000', '41.639', '9.999.900', '3.649.900', '101.386', '1.999.900', '1.179.900', '32.775', '1.379.900', '38.331', '1.385.571', '969.900', '26.942', '1.299.900', '36.108', '1.099.999', '749.900', '20.831', '1.299.900', '749.900', '20.831', '979.900', '27.219', '2.099.900', '58.331', '642.000', '17.833', '589.900', '16.386', '699.900', '579.900', '16.108', '549.900', '15.275', '1.366.000', '37.944', '1.418.138', '1.249.900', '34.719', '2.699.900', '1.679.900', '46.664', '799.000', '22.194', '1.050.000', '29.167', '29.900', '2.492', '599.900', '16.664', '695.000', '19.306']\n"
          ],
          "name": "stdout"
        }
      ]
    },
    {
      "cell_type": "code",
      "metadata": {
        "id": "4k6UzmSGvVRg",
        "colab_type": "code",
        "colab": {
          "base_uri": "https://localhost:8080/",
          "height": 51
        },
        "outputId": "d5d21bb4-0b46-4c20-85b9-9e1401a028bc"
      },
      "source": [
        "#largo listas\n",
        "print (len(nombreTV))\n",
        "print (len(listaPrecios))"
      ],
      "execution_count": 60,
      "outputs": [
        {
          "output_type": "stream",
          "text": [
            "50\n",
            "124\n"
          ],
          "name": "stdout"
        }
      ]
    },
    {
      "cell_type": "code",
      "metadata": {
        "id": "Yb8kwZaxvTJb",
        "colab_type": "code",
        "colab": {}
      },
      "source": [
        "#Diccionario y DataFrame\n",
        "import pandas as pd\n",
        "dictTV = {}\n",
        "dictTV ['Titulos'] = nombreTV [:50] \n",
        "dictTV ['Precios'] = listaPrecios [:50]\n",
        "TVDataFrame = pd.DataFrame(dictTV)\n",
        "TVDataFrame.to_csv('TV.csv', index=False)"
      ],
      "execution_count": 61,
      "outputs": []
    },
    {
      "cell_type": "code",
      "metadata": {
        "id": "irGdZUXZwhzU",
        "colab_type": "code",
        "colab": {
          "base_uri": "https://localhost:8080/",
          "height": 54
        },
        "outputId": "95605f7f-293c-4382-81ef-734c5a6b1864"
      },
      "source": [
        "#Funciones Lambda y Map\n",
        "FuncionAgregarTV = lambda elemento : 'Smart TV : ' + elemento\n",
        "titulosTV = list (map(FuncionAgregarTV,nombreTV))\n",
        "print (titulosTV)\n",
        "dictTV = {}\n",
        "dictTV['Titulos'] = titulosTV[:50]\n",
        "dictTV ['Precios'] = listaPrecios[:50]\n",
        "TVDataFrameMOD = pd.DataFrame(dictTV)\n",
        "TVDataFrameMOD.to_csv('TVMOD.csv', index= False) "
      ],
      "execution_count": 62,
      "outputs": [
        {
          "output_type": "stream",
          "text": [
            "['Smart TV : Televisor Tedge 50 Pulgadas Uhd Smart ', 'Smart TV : Televisor Hyundai 32 Pulgadas Hd Smart - Hyled3243nim', 'Smart TV : Televisor Hyundai 40 Pulgadas Fhd Smart - Hyled4021nim', 'Smart TV : Televisor Full Hd Smart Tv 2020 Un43t5300', 'Smart TV : Televisor Tedge 58 Pulgadas 4k Uhd Smart ', 'Smart TV : Televisor Hyundai 50 Pulgadas 4k Smart Diseño Sin Borde', 'Smart TV : Televisor Tedge 58 Pulgadas 4k Uhd Smart ', 'Smart TV : Televisor Tedge 50 Pulgadas Uhd Smart ', 'Smart TV : Televisor Hyundai 55 Pulgadas 4k Uhd Smart - Hyled5519n4km', 'Smart TV : Televisor Caixun 32 Smart Tv Hd Negro', 'Smart TV : Tv Samsung 50tu8000 Led 4k Uhd Crystal 50 PLG Voz Magic 2020', 'Smart TV : Combo Samsung Smart Tv 50 4k + Barra De Sonido Hwt400', 'Smart TV : Televisor Caixun 50 Pulgadas Led 4k Ultra Hd Smart Tv', 'Smart TV : Televisor Hyundai 58 Pulgadas 4k Smart Diseño Sin Borde', 'Smart TV : Tv Samsung 58 (147 Cm) Smart 4k Uhd', 'Smart TV : Tv LG 28  Pulgadas 70 Cm 28tl525s Led Hd Plano Smart Tv', 'Smart TV : Tv Led Smart Tv Kalley Hdsfbt 32¨ Hd Usb Hdmi Internet Tdt2', 'Smart TV : Televisor Samsung 55ru7300 55p Curvo 4k Smarttv 2019', 'Smart TV : Televisor Hyundai 43 Pulgadas Fhd Smart - Hyled4319nim', 'Smart TV : Televisor LG 32lm630 Led Hd - Active Hdr - Sonido Virtual Su', 'Smart TV : Combo Samsung Smart Tv 50 4k + Barra De Sonido Hwt400', 'Smart TV : Televisor Samsung 55ru7100 55p 2019 Smart Tv 4k Bluetooth', 'Smart TV : Televisor 43 PuLG Caixun 4k Smart Tdt ', 'Smart TV : Tv Samsung 43tu8000 Led 4k Uhd Crystal 43 PLG Voz Magic 2020', 'Smart TV : Tv Samsung 58 (147 Cm) Smart 4k Uhd', 'Smart TV : Televisor Caixun 43 Pulgadas 4k Uhd Ledcx43p28fsm', 'Smart TV : Televisor Samsung 65tu7000 65 PLG 2020 Crystal 4k Bluetooth', 'Smart TV : Tv Samsung 55tu8000 Led 4k Uhd Crystal 55 PLG Voz Magic 2020', 'Smart TV : Tv Samsung 50 (127 Cm) Smart 4k Ultra Hd', 'Smart TV : Televisor Samsung 75ru7100 75p 2019 Smart Tv 4k Bluetooth', 'Smart TV : Televisor Samsung 43 Led Smart Tv Un43t5300 Fhd 2020', 'Smart TV : Televisor Samsung 43 Pulgadas Smartv Full Hd Tdt', 'Smart TV : Televisor Hyundai 43 Pulgadas Fhd Smart Diseño Sin Borde', 'Smart TV : Televisor LG 43 Led Full Hd Smart Tv Tdt 43lm6300pdb ', 'Smart TV : Televisor Led Samsung Un32j4300 Tdt Smart Tv 32 Pulgadas', 'Smart TV : Televisor Led Samsung 32t4300 Tdt Smart Tv 32 Pg Modelo 2020', 'Smart TV : Televisor Samsung 32  Hd Smart Tv Un32j4290akxzl', 'Smart TV : Televisor Samsung Smart 58  Led Uhd 4k Crystal 2020', 'Smart TV : Tv Hyundai 32 (80 Cm) Smart Hd', 'Smart TV : Televisor Exclusiv 32 Hd Smart Tv', 'Smart TV : Televisor Exclusiv 32  Hd Smart Tv El32p28sm', 'Smart TV : Televisor Intec Int324iled Smart Led Hd Wifi Garantia 1 Año', 'Smart TV : Tv Samsung 43 (110 Cm) Smart Led Crystal 4k Ultra Hd ', 'Smart TV : Televisor 43` Samsung Led Fhd Smart Tv 109 Cms Un43t5300akxz', 'Smart TV : Televisor Led Caixun Cx6519nus 65 Pulgadas Uhd Smart 4k Blue', 'Smart TV : Televisor Samsung Smart 32 Pulgadas 32j4290a Nuevos', 'Smart TV : Televisor Caixun Ultrahd Cx43p28 43 Pulgadas Tdt Smart Tv 4k', 'Smart TV : Forro Silicona Control Tv Samsung Por Voz Smart 4k Sikaicase', 'Smart TV : Televisor Smartv 32  Caixun Tdt Led Garantia 2 Años Netflix', 'Smart TV : Televisor Kalley Smart 32 Pulgadas 81 Cm,netflix ,bluetooth,']\n"
          ],
          "name": "stdout"
        }
      ]
    },
    {
      "cell_type": "code",
      "metadata": {
        "id": "c_S7B0aTyy8g",
        "colab_type": "code",
        "colab": {
          "base_uri": "https://localhost:8080/",
          "height": 71
        },
        "outputId": "75f3cd0c-7174-4632-c0a5-b2fb80e3d44a"
      },
      "source": [
        "#Filter Titulos por Marca\n",
        "hyundai = lambda elemento : 'Hyundai' in elemento\n",
        "\n",
        "listaHyundai = list (filter(hyundai,titulosTV))\n",
        "print (listaHyundai)\n",
        "\n",
        "\n",
        "\n",
        "#Menos de 80 caracteres\n",
        "\n",
        "nombreTVCortos = lambda elemento : len (elemento) < 80\n",
        "listaNombresFiltrados = list (filter (nombreTVCortos, listaHyundai))\n",
        "print (listaNombresFiltrados)\n",
        "\n",
        "\n",
        "hyundaiSerie = pd.Series(listaHyundai)\n",
        "hyundaiSerie.to_csv('Hyundai.csv',  index_label='Hyundai')\n"
      ],
      "execution_count": 43,
      "outputs": [
        {
          "output_type": "stream",
          "text": [
            "['Smart TV : Televisor Hyundai 32 Pulgadas Hd Smart - Hyled3243nim', 'Smart TV : Televisor Hyundai 40 Pulgadas Fhd Smart - Hyled4021nim', 'Smart TV : Televisor Hyundai 50 Pulgadas 4k Smart Diseño Sin Borde', 'Smart TV : Televisor Hyundai 55 Pulgadas 4k Uhd Smart - Hyled5519n4km', 'Smart TV : Televisor Hyundai 58 Pulgadas 4k Smart Diseño Sin Borde', 'Smart TV : Televisor Hyundai 43 Pulgadas Fhd Smart - Hyled4319nim', 'Smart TV : Televisor Hyundai 43 Pulgadas Fhd Smart Diseño Sin Borde', 'Smart TV : Tv Hyundai 32 (80 Cm) Smart Hd']\n",
            "['Smart TV : Televisor Hyundai 32 Pulgadas Hd Smart - Hyled3243nim', 'Smart TV : Televisor Hyundai 40 Pulgadas Fhd Smart - Hyled4021nim', 'Smart TV : Televisor Hyundai 50 Pulgadas 4k Smart Diseño Sin Borde', 'Smart TV : Televisor Hyundai 55 Pulgadas 4k Uhd Smart - Hyled5519n4km', 'Smart TV : Televisor Hyundai 58 Pulgadas 4k Smart Diseño Sin Borde', 'Smart TV : Televisor Hyundai 43 Pulgadas Fhd Smart - Hyled4319nim', 'Smart TV : Televisor Hyundai 43 Pulgadas Fhd Smart Diseño Sin Borde', 'Smart TV : Tv Hyundai 32 (80 Cm) Smart Hd']\n"
          ],
          "name": "stdout"
        }
      ]
    },
    {
      "cell_type": "code",
      "metadata": {
        "id": "Us9CSuBy24qM",
        "colab_type": "code",
        "colab": {
          "base_uri": "https://localhost:8080/",
          "height": 34
        },
        "outputId": "1fcb1cf0-96ea-4133-ceeb-2fd433e385e0"
      },
      "source": [
        "from functools import reduce\n",
        "\n",
        "lista = titulosTV\n",
        "size = lambda elemento: len(elemento)\n",
        "listaSize = list (map(size,lista))\n",
        "sumador = lambda elemento = 0, acumulador = 0: acumulador + elemento\n",
        "promedio = reduce (sumador,listaSize) / len(titulosTV)\n",
        "print (promedio)"
      ],
      "execution_count": 63,
      "outputs": [
        {
          "output_type": "stream",
          "text": [
            "62.06\n"
          ],
          "name": "stdout"
        }
      ]
    },
    {
      "cell_type": "markdown",
      "metadata": {
        "id": "G-lYHwKF5G-q",
        "colab_type": "text"
      },
      "source": [
        "#CVS TV\n"
      ]
    },
    {
      "cell_type": "code",
      "metadata": {
        "id": "RBMAd_qm5Lxd",
        "colab_type": "code",
        "colab": {}
      },
      "source": [
        "TVDataFrame"
      ],
      "execution_count": null,
      "outputs": []
    },
    {
      "cell_type": "markdown",
      "metadata": {
        "id": "N0eLnldE52lM",
        "colab_type": "text"
      },
      "source": [
        "#CVS TV Modificado"
      ]
    },
    {
      "cell_type": "code",
      "metadata": {
        "id": "lh4VxaSR55eo",
        "colab_type": "code",
        "colab": {}
      },
      "source": [
        "TVDataFrameMOD "
      ],
      "execution_count": null,
      "outputs": []
    },
    {
      "cell_type": "markdown",
      "metadata": {
        "id": "X0K7obTF6EOs",
        "colab_type": "text"
      },
      "source": [
        "#Serie Hyundai"
      ]
    },
    {
      "cell_type": "code",
      "metadata": {
        "id": "c3bbdZeB6Gh2",
        "colab_type": "code",
        "colab": {
          "base_uri": "https://localhost:8080/",
          "height": 170
        },
        "outputId": "2f7447b2-1ec2-4f8b-f980-094713a24ffc"
      },
      "source": [
        "hyundaiSerie"
      ],
      "execution_count": 47,
      "outputs": [
        {
          "output_type": "execute_result",
          "data": {
            "text/plain": [
              "0    Smart TV : Televisor Hyundai 32 Pulgadas Hd Sm...\n",
              "1    Smart TV : Televisor Hyundai 40 Pulgadas Fhd S...\n",
              "2    Smart TV : Televisor Hyundai 50 Pulgadas 4k Sm...\n",
              "3    Smart TV : Televisor Hyundai 55 Pulgadas 4k Uh...\n",
              "4    Smart TV : Televisor Hyundai 58 Pulgadas 4k Sm...\n",
              "5    Smart TV : Televisor Hyundai 43 Pulgadas Fhd S...\n",
              "6    Smart TV : Televisor Hyundai 43 Pulgadas Fhd S...\n",
              "7            Smart TV : Tv Hyundai 32 (80 Cm) Smart Hd\n",
              "dtype: object"
            ]
          },
          "metadata": {
            "tags": []
          },
          "execution_count": 47
        }
      ]
    },
    {
      "cell_type": "code",
      "metadata": {
        "id": "msXFiwaN6W1y",
        "colab_type": "code",
        "colab": {
          "base_uri": "https://localhost:8080/",
          "height": 71
        },
        "outputId": "41c88ea7-f5f2-43b9-eb18-962d1707dea6"
      },
      "source": [
        "#Dada la lista de precios detecte el largo de los mismos, una vez lo haya\n",
        "#detectado, cree una lista donde exponga todos los largos y los divida por el mayor largo\n",
        "\n",
        "lista = listaPrecios\n",
        "size = lambda elemento: len(elemento)\n",
        "listaSize = list (map(size,listaPrecios))\n",
        "print (listaSize)\n",
        "sumador = lambda elemento = 0, acumulador = 0: acumulador + elemento\n",
        "promedio = reduce (sumador,listaSize) / max(listaSize)\n",
        "print (promedio)"
      ],
      "execution_count": 94,
      "outputs": [
        {
          "output_type": "stream",
          "text": [
            "[9, 9, 6, 7, 7, 6, 9, 7, 6, 9, 6, 9, 9, 6, 9, 9, 6, 9, 9, 7, 9, 9, 6, 9, 6, 7, 7, 6, 9, 9, 6, 9, 7, 9, 9, 6, 9, 6, 9, 7, 7, 6, 7, 6, 9, 9, 6, 7, 6, 9, 7, 6, 9, 6, 9, 9, 6, 7, 6, 9, 9, 6, 9, 6, 7, 6, 9, 9, 6, 9, 9, 6, 9, 6, 9, 9, 7, 9, 9, 6, 9, 6, 9, 7, 6, 9, 6, 9, 7, 6, 9, 7, 6, 7, 6, 9, 6, 7, 6, 7, 6, 7, 7, 6, 7, 6, 9, 6, 9, 9, 6, 9, 9, 6, 7, 6, 9, 6, 6, 5, 7, 6, 7, 6]\n",
            "102.22222222222223\n"
          ],
          "name": "stdout"
        }
      ]
    },
    {
      "cell_type": "markdown",
      "metadata": {
        "id": "iP5cxThvDzXB",
        "colab_type": "text"
      },
      "source": [
        "#Bonus"
      ]
    },
    {
      "cell_type": "code",
      "metadata": {
        "id": "YS5moI8jD08L",
        "colab_type": "code",
        "colab": {
          "base_uri": "https://localhost:8080/",
          "height": 1000
        },
        "outputId": "82ca2071-2d22-4354-bb26-2b39917dbc6b"
      },
      "source": [
        "#Numpy\n",
        "import numpy as np\n",
        "\n",
        "dictTV ['Titulos'] = nombreTV [:50] \n",
        "dictTV ['Precios'] = listaPrecios [:50]\n",
        "tv_frame.iloc[:][dictTV]\n"
      ],
      "execution_count": 144,
      "outputs": [
        {
          "output_type": "execute_result",
          "data": {
            "text/html": [
              "<div>\n",
              "<style scoped>\n",
              "    .dataframe tbody tr th:only-of-type {\n",
              "        vertical-align: middle;\n",
              "    }\n",
              "\n",
              "    .dataframe tbody tr th {\n",
              "        vertical-align: top;\n",
              "    }\n",
              "\n",
              "    .dataframe thead th {\n",
              "        text-align: right;\n",
              "    }\n",
              "</style>\n",
              "<table border=\"1\" class=\"dataframe\">\n",
              "  <thead>\n",
              "    <tr style=\"text-align: right;\">\n",
              "      <th></th>\n",
              "      <th>Titulos</th>\n",
              "      <th>Precios</th>\n",
              "    </tr>\n",
              "  </thead>\n",
              "  <tbody>\n",
              "    <tr>\n",
              "      <th>0</th>\n",
              "      <td>Televisor Tedge 50 Pulgadas Uhd Smart</td>\n",
              "      <td>2.799.900</td>\n",
              "    </tr>\n",
              "    <tr>\n",
              "      <th>1</th>\n",
              "      <td>Televisor Hyundai 32 Pulgadas Hd Smart - Hyled...</td>\n",
              "      <td>1.199.900</td>\n",
              "    </tr>\n",
              "    <tr>\n",
              "      <th>2</th>\n",
              "      <td>Televisor Hyundai 40 Pulgadas Fhd Smart - Hyle...</td>\n",
              "      <td>99.992</td>\n",
              "    </tr>\n",
              "    <tr>\n",
              "      <th>3</th>\n",
              "      <td>Televisor Full Hd Smart Tv 2020 Un43t5300</td>\n",
              "      <td>857.000</td>\n",
              "    </tr>\n",
              "    <tr>\n",
              "      <th>4</th>\n",
              "      <td>Televisor Tedge 58 Pulgadas 4k Uhd Smart</td>\n",
              "      <td>619.900</td>\n",
              "    </tr>\n",
              "    <tr>\n",
              "      <th>5</th>\n",
              "      <td>Televisor Hyundai 50 Pulgadas 4k Smart Diseño ...</td>\n",
              "      <td>17.219</td>\n",
              "    </tr>\n",
              "    <tr>\n",
              "      <th>6</th>\n",
              "      <td>Televisor Tedge 58 Pulgadas 4k Uhd Smart</td>\n",
              "      <td>1.271.285</td>\n",
              "    </tr>\n",
              "    <tr>\n",
              "      <th>7</th>\n",
              "      <td>Televisor Tedge 50 Pulgadas Uhd Smart</td>\n",
              "      <td>899.900</td>\n",
              "    </tr>\n",
              "    <tr>\n",
              "      <th>8</th>\n",
              "      <td>Televisor Hyundai 55 Pulgadas 4k Uhd Smart - H...</td>\n",
              "      <td>24.997</td>\n",
              "    </tr>\n",
              "    <tr>\n",
              "      <th>9</th>\n",
              "      <td>Televisor Caixun 32 Smart Tv Hd Negro</td>\n",
              "      <td>1.159.900</td>\n",
              "    </tr>\n",
              "    <tr>\n",
              "      <th>10</th>\n",
              "      <td>Tv Samsung 50tu8000 Led 4k Uhd Crystal 50 PLG ...</td>\n",
              "      <td>32.219</td>\n",
              "    </tr>\n",
              "    <tr>\n",
              "      <th>11</th>\n",
              "      <td>Combo Samsung Smart Tv 50 4k + Barra De Sonido...</td>\n",
              "      <td>3.399.900</td>\n",
              "    </tr>\n",
              "    <tr>\n",
              "      <th>12</th>\n",
              "      <td>Televisor Caixun 50 Pulgadas Led 4k Ultra Hd S...</td>\n",
              "      <td>1.499.000</td>\n",
              "    </tr>\n",
              "    <tr>\n",
              "      <th>13</th>\n",
              "      <td>Televisor Hyundai 58 Pulgadas 4k Smart Diseño ...</td>\n",
              "      <td>41.639</td>\n",
              "    </tr>\n",
              "    <tr>\n",
              "      <th>14</th>\n",
              "      <td>Tv Samsung 58 (147 Cm) Smart 4k Uhd</td>\n",
              "      <td>1.928.428</td>\n",
              "    </tr>\n",
              "    <tr>\n",
              "      <th>15</th>\n",
              "      <td>Tv LG 28  Pulgadas 70 Cm 28tl525s Led Hd Plano...</td>\n",
              "      <td>1.299.900</td>\n",
              "    </tr>\n",
              "    <tr>\n",
              "      <th>16</th>\n",
              "      <td>Tv Led Smart Tv Kalley Hdsfbt 32¨ Hd Usb Hdmi ...</td>\n",
              "      <td>36.108</td>\n",
              "    </tr>\n",
              "    <tr>\n",
              "      <th>17</th>\n",
              "      <td>Televisor Samsung 55ru7300 55p Curvo 4k Smartt...</td>\n",
              "      <td>3.299.900</td>\n",
              "    </tr>\n",
              "    <tr>\n",
              "      <th>18</th>\n",
              "      <td>Televisor Hyundai 43 Pulgadas Fhd Smart - Hyle...</td>\n",
              "      <td>1.499.900</td>\n",
              "    </tr>\n",
              "    <tr>\n",
              "      <th>19</th>\n",
              "      <td>Televisor LG 32lm630 Led Hd - Active Hdr - Son...</td>\n",
              "      <td>124.992</td>\n",
              "    </tr>\n",
              "    <tr>\n",
              "      <th>20</th>\n",
              "      <td>Combo Samsung Smart Tv 50 4k + Barra De Sonido...</td>\n",
              "      <td>2.799.900</td>\n",
              "    </tr>\n",
              "    <tr>\n",
              "      <th>21</th>\n",
              "      <td>Televisor Samsung 55ru7100 55p 2019 Smart Tv 4...</td>\n",
              "      <td>1.199.000</td>\n",
              "    </tr>\n",
              "    <tr>\n",
              "      <th>22</th>\n",
              "      <td>Televisor 43 PuLG Caixun 4k Smart Tdt</td>\n",
              "      <td>33.306</td>\n",
              "    </tr>\n",
              "    <tr>\n",
              "      <th>23</th>\n",
              "      <td>Tv Samsung 43tu8000 Led 4k Uhd Crystal 43 PLG ...</td>\n",
              "      <td>1.499.900</td>\n",
              "    </tr>\n",
              "    <tr>\n",
              "      <th>24</th>\n",
              "      <td>Tv Samsung 58 (147 Cm) Smart 4k Uhd</td>\n",
              "      <td>41.664</td>\n",
              "    </tr>\n",
              "    <tr>\n",
              "      <th>25</th>\n",
              "      <td>Televisor Caixun 43 Pulgadas 4k Uhd Ledcx43p28fsm</td>\n",
              "      <td>689.900</td>\n",
              "    </tr>\n",
              "    <tr>\n",
              "      <th>26</th>\n",
              "      <td>Televisor Samsung 65tu7000 65 PLG 2020 Crystal...</td>\n",
              "      <td>609.900</td>\n",
              "    </tr>\n",
              "    <tr>\n",
              "      <th>27</th>\n",
              "      <td>Tv Samsung 55tu8000 Led 4k Uhd Crystal 55 PLG ...</td>\n",
              "      <td>16.942</td>\n",
              "    </tr>\n",
              "    <tr>\n",
              "      <th>28</th>\n",
              "      <td>Tv Samsung 50 (127 Cm) Smart 4k Ultra Hd</td>\n",
              "      <td>2.999.900</td>\n",
              "    </tr>\n",
              "    <tr>\n",
              "      <th>29</th>\n",
              "      <td>Televisor Samsung 75ru7100 75p 2019 Smart Tv 4...</td>\n",
              "      <td>1.529.900</td>\n",
              "    </tr>\n",
              "    <tr>\n",
              "      <th>30</th>\n",
              "      <td>Televisor Samsung 43 Led Smart Tv Un43t5300 Fh...</td>\n",
              "      <td>42.497</td>\n",
              "    </tr>\n",
              "    <tr>\n",
              "      <th>31</th>\n",
              "      <td>Televisor Samsung 43 Pulgadas Smartv Full Hd Tdt</td>\n",
              "      <td>1.810.000</td>\n",
              "    </tr>\n",
              "    <tr>\n",
              "      <th>32</th>\n",
              "      <td>Televisor Hyundai 43 Pulgadas Fhd Smart Diseño...</td>\n",
              "      <td>150.833</td>\n",
              "    </tr>\n",
              "    <tr>\n",
              "      <th>33</th>\n",
              "      <td>Televisor LG 43 Led Full Hd Smart Tv Tdt 43lm6...</td>\n",
              "      <td>1.439.900</td>\n",
              "    </tr>\n",
              "    <tr>\n",
              "      <th>34</th>\n",
              "      <td>Televisor Led Samsung Un32j4300 Tdt Smart Tv 3...</td>\n",
              "      <td>1.279.900</td>\n",
              "    </tr>\n",
              "    <tr>\n",
              "      <th>35</th>\n",
              "      <td>Televisor Led Samsung 32t4300 Tdt Smart Tv 32 ...</td>\n",
              "      <td>35.553</td>\n",
              "    </tr>\n",
              "    <tr>\n",
              "      <th>36</th>\n",
              "      <td>Televisor Samsung 32  Hd Smart Tv Un32j4290akxzl</td>\n",
              "      <td>1.599.900</td>\n",
              "    </tr>\n",
              "    <tr>\n",
              "      <th>37</th>\n",
              "      <td>Televisor Samsung Smart 58  Led Uhd 4k Crystal...</td>\n",
              "      <td>44.442</td>\n",
              "    </tr>\n",
              "    <tr>\n",
              "      <th>38</th>\n",
              "      <td>Tv Hyundai 32 (80 Cm) Smart Hd</td>\n",
              "      <td>1.770.000</td>\n",
              "    </tr>\n",
              "    <tr>\n",
              "      <th>39</th>\n",
              "      <td>Televisor Exclusiv 32 Hd Smart Tv</td>\n",
              "      <td>147.500</td>\n",
              "    </tr>\n",
              "    <tr>\n",
              "      <th>40</th>\n",
              "      <td>Televisor Exclusiv 32  Hd Smart Tv El32p28sm</td>\n",
              "      <td>729.900</td>\n",
              "    </tr>\n",
              "    <tr>\n",
              "      <th>41</th>\n",
              "      <td>Televisor Intec Int324iled Smart Led Hd Wifi G...</td>\n",
              "      <td>20.275</td>\n",
              "    </tr>\n",
              "    <tr>\n",
              "      <th>42</th>\n",
              "      <td>Tv Samsung 43 (110 Cm) Smart Led Crystal 4k Ul...</td>\n",
              "      <td>779.990</td>\n",
              "    </tr>\n",
              "    <tr>\n",
              "      <th>43</th>\n",
              "      <td>Televisor 43` Samsung Led Fhd Smart Tv 109 Cms...</td>\n",
              "      <td>21.666</td>\n",
              "    </tr>\n",
              "    <tr>\n",
              "      <th>44</th>\n",
              "      <td>Televisor Led Caixun Cx6519nus 65 Pulgadas Uhd...</td>\n",
              "      <td>3.299.900</td>\n",
              "    </tr>\n",
              "    <tr>\n",
              "      <th>45</th>\n",
              "      <td>Televisor Samsung Smart 32 Pulgadas 32j4290a N...</td>\n",
              "      <td>1.989.900</td>\n",
              "    </tr>\n",
              "    <tr>\n",
              "      <th>46</th>\n",
              "      <td>Televisor Caixun Ultrahd Cx43p28 43 Pulgadas T...</td>\n",
              "      <td>55.275</td>\n",
              "    </tr>\n",
              "    <tr>\n",
              "      <th>47</th>\n",
              "      <td>Forro Silicona Control Tv Samsung Por Voz Smar...</td>\n",
              "      <td>999.900</td>\n",
              "    </tr>\n",
              "    <tr>\n",
              "      <th>48</th>\n",
              "      <td>Televisor Smartv 32  Caixun Tdt Led Garantia 2...</td>\n",
              "      <td>27.775</td>\n",
              "    </tr>\n",
              "    <tr>\n",
              "      <th>49</th>\n",
              "      <td>Televisor Kalley Smart 32 Pulgadas 81 Cm,netfl...</td>\n",
              "      <td>1.149.900</td>\n",
              "    </tr>\n",
              "  </tbody>\n",
              "</table>\n",
              "</div>"
            ],
            "text/plain": [
              "                                              Titulos    Precios\n",
              "0              Televisor Tedge 50 Pulgadas Uhd Smart   2.799.900\n",
              "1   Televisor Hyundai 32 Pulgadas Hd Smart - Hyled...  1.199.900\n",
              "2   Televisor Hyundai 40 Pulgadas Fhd Smart - Hyle...     99.992\n",
              "3           Televisor Full Hd Smart Tv 2020 Un43t5300    857.000\n",
              "4           Televisor Tedge 58 Pulgadas 4k Uhd Smart     619.900\n",
              "5   Televisor Hyundai 50 Pulgadas 4k Smart Diseño ...     17.219\n",
              "6           Televisor Tedge 58 Pulgadas 4k Uhd Smart   1.271.285\n",
              "7              Televisor Tedge 50 Pulgadas Uhd Smart     899.900\n",
              "8   Televisor Hyundai 55 Pulgadas 4k Uhd Smart - H...     24.997\n",
              "9               Televisor Caixun 32 Smart Tv Hd Negro  1.159.900\n",
              "10  Tv Samsung 50tu8000 Led 4k Uhd Crystal 50 PLG ...     32.219\n",
              "11  Combo Samsung Smart Tv 50 4k + Barra De Sonido...  3.399.900\n",
              "12  Televisor Caixun 50 Pulgadas Led 4k Ultra Hd S...  1.499.000\n",
              "13  Televisor Hyundai 58 Pulgadas 4k Smart Diseño ...     41.639\n",
              "14                Tv Samsung 58 (147 Cm) Smart 4k Uhd  1.928.428\n",
              "15  Tv LG 28  Pulgadas 70 Cm 28tl525s Led Hd Plano...  1.299.900\n",
              "16  Tv Led Smart Tv Kalley Hdsfbt 32¨ Hd Usb Hdmi ...     36.108\n",
              "17  Televisor Samsung 55ru7300 55p Curvo 4k Smartt...  3.299.900\n",
              "18  Televisor Hyundai 43 Pulgadas Fhd Smart - Hyle...  1.499.900\n",
              "19  Televisor LG 32lm630 Led Hd - Active Hdr - Son...    124.992\n",
              "20  Combo Samsung Smart Tv 50 4k + Barra De Sonido...  2.799.900\n",
              "21  Televisor Samsung 55ru7100 55p 2019 Smart Tv 4...  1.199.000\n",
              "22             Televisor 43 PuLG Caixun 4k Smart Tdt      33.306\n",
              "23  Tv Samsung 43tu8000 Led 4k Uhd Crystal 43 PLG ...  1.499.900\n",
              "24                Tv Samsung 58 (147 Cm) Smart 4k Uhd     41.664\n",
              "25  Televisor Caixun 43 Pulgadas 4k Uhd Ledcx43p28fsm    689.900\n",
              "26  Televisor Samsung 65tu7000 65 PLG 2020 Crystal...    609.900\n",
              "27  Tv Samsung 55tu8000 Led 4k Uhd Crystal 55 PLG ...     16.942\n",
              "28           Tv Samsung 50 (127 Cm) Smart 4k Ultra Hd  2.999.900\n",
              "29  Televisor Samsung 75ru7100 75p 2019 Smart Tv 4...  1.529.900\n",
              "30  Televisor Samsung 43 Led Smart Tv Un43t5300 Fh...     42.497\n",
              "31   Televisor Samsung 43 Pulgadas Smartv Full Hd Tdt  1.810.000\n",
              "32  Televisor Hyundai 43 Pulgadas Fhd Smart Diseño...    150.833\n",
              "33  Televisor LG 43 Led Full Hd Smart Tv Tdt 43lm6...  1.439.900\n",
              "34  Televisor Led Samsung Un32j4300 Tdt Smart Tv 3...  1.279.900\n",
              "35  Televisor Led Samsung 32t4300 Tdt Smart Tv 32 ...     35.553\n",
              "36   Televisor Samsung 32  Hd Smart Tv Un32j4290akxzl  1.599.900\n",
              "37  Televisor Samsung Smart 58  Led Uhd 4k Crystal...     44.442\n",
              "38                     Tv Hyundai 32 (80 Cm) Smart Hd  1.770.000\n",
              "39                  Televisor Exclusiv 32 Hd Smart Tv    147.500\n",
              "40       Televisor Exclusiv 32  Hd Smart Tv El32p28sm    729.900\n",
              "41  Televisor Intec Int324iled Smart Led Hd Wifi G...     20.275\n",
              "42  Tv Samsung 43 (110 Cm) Smart Led Crystal 4k Ul...    779.990\n",
              "43  Televisor 43` Samsung Led Fhd Smart Tv 109 Cms...     21.666\n",
              "44  Televisor Led Caixun Cx6519nus 65 Pulgadas Uhd...  3.299.900\n",
              "45  Televisor Samsung Smart 32 Pulgadas 32j4290a N...  1.989.900\n",
              "46  Televisor Caixun Ultrahd Cx43p28 43 Pulgadas T...     55.275\n",
              "47  Forro Silicona Control Tv Samsung Por Voz Smar...    999.900\n",
              "48  Televisor Smartv 32  Caixun Tdt Led Garantia 2...     27.775\n",
              "49  Televisor Kalley Smart 32 Pulgadas 81 Cm,netfl...  1.149.900"
            ]
          },
          "metadata": {
            "tags": []
          },
          "execution_count": 144
        }
      ]
    }
  ]
}