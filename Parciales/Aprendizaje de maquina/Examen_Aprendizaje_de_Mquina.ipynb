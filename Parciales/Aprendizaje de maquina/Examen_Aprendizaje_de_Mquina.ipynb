{
  "nbformat": 4,
  "nbformat_minor": 0,
  "metadata": {
    "colab": {
      "name": "Examen Aprendizaje de Mquina.ipynb",
      "provenance": []
    },
    "kernelspec": {
      "name": "python3",
      "display_name": "Python 3"
    }
  },
  "cells": [
    {
      "cell_type": "markdown",
      "metadata": {
        "id": "F3vT04vOCY6w"
      },
      "source": [
        "#Punto 1\n"
      ]
    },
    {
      "cell_type": "code",
      "metadata": {
        "id": "8K9lShQk2H23",
        "outputId": "96cd74af-202e-4bb6-efbd-f0a013d18a8e",
        "colab": {
          "base_uri": "https://localhost:8080/",
          "height": 160
        }
      },
      "source": [
        "import sklearn \n",
        "from sklearn.datasets import load_iris\n",
        "from sklearn.model_selection import train_test_split\n",
        "iris=load_iris()\n",
        "\n",
        "datosEntrenamiento, datosPrueba,respuestasEntrenamiento,respuestaPrueba=train_test_split(iris['data'],iris['target'])\n",
        "print(datosEntrenamiento.shape)\n",
        "print(respuestasEntrenamiento)\n",
        "\n",
        "from sklearn.neighbors import KNeighborsClassifier\n",
        "knn1=KNeighborsClassifier(n_neighbors=4)\n",
        "knn1.fit(datosEntrenamiento,respuestasEntrenamiento)\n",
        "scoreKnn1 = (knn1.score(datosPrueba,respuestaPrueba)*100)\n",
        "\n",
        "\n",
        "knn2=KNeighborsClassifier(n_neighbors=8)\n",
        "knn2.fit(datosEntrenamiento,respuestasEntrenamiento)\n",
        "scoreKnn2 = (knn2.score(datosPrueba,respuestaPrueba)*100)\n",
        "\n",
        "\n",
        "\n",
        "knn3=KNeighborsClassifier(n_neighbors=12)\n",
        "knn3.fit(datosEntrenamiento,respuestasEntrenamiento)\n",
        "scoreKnn3 = (knn3.score(datosPrueba,respuestaPrueba)*100)\n",
        "\n",
        "knn4=KNeighborsClassifier(n_neighbors=16)\n",
        "knn4.fit(datosEntrenamiento,respuestasEntrenamiento)\n",
        "scoreKnn4 = (knn4.score(datosPrueba,respuestaPrueba)*100)\n",
        "\n",
        "score_vecinos = []\n",
        "score_vecinos.append(knn1.score(datosPrueba,respuestaPrueba)*100)\n",
        "score_vecinos.append(knn2.score(datosPrueba, respuestasPrueba)*100)\n",
        "score_vecinos.append(knn3.score(datosPrueba,respuestaPrueba)*100)\n",
        "score_vecinos.append(knn4.score(datosPrueba,respuestaPrueba)*100)\n",
        "\n",
        "print(score_vecinos)\n",
        "\n",
        "print(\"Ninguno de los resultados apunto al 100%, por lo que no se requiere sobreajuste\")"
      ],
      "execution_count": 62,
      "outputs": [
        {
          "output_type": "stream",
          "text": [
            "(112, 4)\n",
            "[2 1 1 1 1 0 1 1 0 1 1 1 1 2 1 2 1 0 1 2 2 2 1 1 1 1 1 0 0 2 0 2 1 2 1 2 2\n",
            " 0 1 0 1 2 1 0 1 2 0 2 0 2 0 2 2 1 0 1 0 1 0 2 1 2 1 2 2 1 2 0 2 2 0 0 0 0\n",
            " 0 2 1 2 0 0 1 0 1 0 2 0 1 2 2 0 0 1 0 0 2 2 2 2 1 0 1 2 1 2 0 2 1 1 2 2 0\n",
            " 2]\n",
            "[92.10526315789474, 21.052631578947366, 94.73684210526315, 94.73684210526315]\n",
            "Ninguno de los resultados apunto al 100%, por lo que no se requiere sobreajuste\n"
          ],
          "name": "stdout"
        }
      ]
    },
    {
      "cell_type": "markdown",
      "metadata": {
        "id": "WpgxokMDCjoO"
      },
      "source": [
        "#Punto 2\n"
      ]
    },
    {
      "cell_type": "code",
      "metadata": {
        "id": "8rvhAvEgClWs",
        "outputId": "c199c910-5839-433e-f080-57955848adba",
        "colab": {
          "base_uri": "https://localhost:8080/",
          "height": 55
        }
      },
      "source": [
        "from sklearn.datasets import load_iris \n",
        "from sklearn.model_selection import train_test_split \n",
        "from sklearn.tree import  DecisionTreeClassifier \n",
        "\n",
        "iris = load_iris()\n",
        "\n",
        "datosEntrenamiento,datosPrueba,respuestasEntrenamiento,respuestasPrueba = train_test_split (iris['data'],iris['target'])\n",
        "\n",
        "arbol = DecisionTreeClassifier(max_depth=3)\n",
        "\n",
        "arbol.fit(datosEntrenamiento,respuestasEntrenamiento)\n",
        "\n",
        "scoreTree = arbol.score(datosPrueba, respuestasPrueba)*100\n",
        "\n",
        "print (f'El resultado de clasificar con arbol de deciones es {scoreTree} %, por lo que fue mas efectivo que Knn 3 y Knn4 del punto anterior')\n"
      ],
      "execution_count": 77,
      "outputs": [
        {
          "output_type": "stream",
          "text": [
            "El resultado de clasificar con arbol de deciones es 97.36842105263158 %, por lo que fue mas efectivo que Knn 3 y Knn4 del punto anterior\n"
          ],
          "name": "stdout"
        }
      ]
    },
    {
      "cell_type": "markdown",
      "metadata": {
        "id": "SaZMr98TEQlh"
      },
      "source": [
        "#Punto 3\n"
      ]
    },
    {
      "cell_type": "code",
      "metadata": {
        "id": "DJqzMf1uESG9",
        "outputId": "4313b493-c06c-4815-b8b5-6eaba2668317",
        "colab": {
          "base_uri": "https://localhost:8080/",
          "height": 90
        }
      },
      "source": [
        "from sklearn.neural_network import  MLPClassifier\n",
        "\n",
        "redNeuronal1 = MLPClassifier(max_iter=3000, hidden_layer_sizes=[25,25])\n",
        "redNeuronal1.fit(datosEntrenamiento,respuestasEntrenamiento)\n",
        "scoreRed1 = redNeuronal1.score(datosPrueba,respuestaPrueba)*100\n",
        "print (scoreRed1)\n",
        "\n",
        "redNeuronal2 = MLPClassifier(max_iter=3000, hidden_layer_sizes=[82,82])\n",
        "redNeuronal2.fit(datosEntrenamiento,respuestasEntrenamiento)\n",
        "scoreRed2 = redNeuronal2.score(datosPrueba,respuestaPrueba)*100\n",
        "print (scoreRed2)\n",
        "\n",
        "redNeuronal3 = MLPClassifier(max_iter=3000, hidden_layer_sizes=[30,30])\n",
        "redNeuronal3.fit(datosEntrenamiento,respuestasEntrenamiento)\n",
        "scoreRed3 = redNeuronal3.score(datosPrueba,respuestaPrueba)*100\n",
        "print (scoreRed3)\n",
        "\n",
        "\n"
      ],
      "execution_count": 24,
      "outputs": [
        {
          "output_type": "stream",
          "text": [
            "97.36842105263158\n",
            "94.73684210526315\n",
            "97.36842105263158\n"
          ],
          "name": "stdout"
        }
      ]
    },
    {
      "cell_type": "code",
      "metadata": {
        "id": "Zd6SAZ7rGqHS",
        "outputId": "b938b2c4-4f5d-45d6-8c4b-d2981226b0cd",
        "colab": {
          "base_uri": "https://localhost:8080/",
          "height": 55
        }
      },
      "source": [
        "score_final=[]\n",
        "score_final.append(redNeuronal1.score(datosPrueba,respuestaPrueba)*100)\n",
        "score_final.append(redNeuronal2.score(datosPrueba, respuestasPrueba)*100)\n",
        "score_final.append(redNeuronal3.score(datosPrueba,respuestaPrueba)*100)\n",
        "\n",
        "print(\"el puntaje maximo es\", max(score_final))"
      ],
      "execution_count": 27,
      "outputs": [
        {
          "output_type": "stream",
          "text": [
            "el puntaje maximo es 97.36842105263158\n"
          ],
          "name": "stdout"
        }
      ]
    },
    {
      "cell_type": "markdown",
      "metadata": {
        "id": "rIO0N_PkEkZf"
      },
      "source": [
        "#Punto 4"
      ]
    },
    {
      "cell_type": "code",
      "metadata": {
        "id": "gIVYVgiAQ-Go",
        "outputId": "f1ae0847-bdaf-4f07-f399-6266d039eb10",
        "colab": {
          "base_uri": "https://localhost:8080/",
          "height": 55
        }
      },
      "source": [
        "scores = [scoreKnn1,scoreKnn2,scoreKnn3,scoreKnn4,scoreTree,scoreRed1,scoreRed2,scoreRed3]\n",
        "print(scores)"
      ],
      "execution_count": 57,
      "outputs": [
        {
          "output_type": "stream",
          "text": [
            "[97.36842105263158, 94.73684210526315, 97.36842105263158, 94.73684210526315, 92.10526315789474, 97.36842105263158, 94.73684210526315, 97.36842105263158]\n"
          ],
          "name": "stdout"
        }
      ]
    },
    {
      "cell_type": "code",
      "metadata": {
        "id": "Aio3B0tpQKhn",
        "outputId": "ae754601-c48c-4db6-87b4-8e3562ecb7a3",
        "colab": {
          "base_uri": "https://localhost:8080/",
          "height": 332
        }
      },
      "source": [
        "import matplotlib.pyplot as plt\n",
        "clasificador = [\"KNN 4\",\"KNN 8\",\"KNN 12\",\"KNN 16\",\"Arbol\",\"Red  25\",\"Red  82\",\"Red 30\"]\n",
        "plt.bar(clasificador,scores)\n",
        "plt.ylabel(\"Porcentaje\")\n",
        "plt.xlabel(\"Clasificador\")\n",
        "plt.title(\"Comparacion Clasificadores\")\n",
        "plt.show()\n",
        "plt.savefig (\"Grafico Clasificadores.png\")"
      ],
      "execution_count": 61,
      "outputs": [
        {
          "output_type": "display_data",
          "data": {
            "image/png": "[encoded data removed]",
            "text/plain": [
              "<Figure size 432x288 with 1 Axes>"
            ]
          },
          "metadata": {
            "tags": [],
            "needs_background": "light"
          }
        },
        {
          "output_type": "display_data",
          "data": {
            "text/plain": [
              "<Figure size 432x288 with 0 Axes>"
            ]
          },
          "metadata": {
            "tags": []
          }
        }
      ]
    },
    {
      "cell_type": "markdown",
      "metadata": {
        "id": "wvcd216URjs7"
      },
      "source": [
        "#Punto 5"
      ]
    },
    {
      "cell_type": "code",
      "metadata": {
        "id": "IGRjRvKJRlMn",
        "outputId": "4ef83543-2aaa-4b91-eff6-8093adf2f7cf",
        "colab": {
          "base_uri": "https://localhost:8080/",
          "height": 90
        }
      },
      "source": [
        "from sklearn.datasets import load_iris \n",
        "from sklearn.model_selection import train_test_split \n",
        "from sklearn.linear_model import SGDClassifier\n",
        "iris = load_iris()\n",
        "\n",
        "datosEntrenamiento, datosPrueba,respuestasEntrenamiento,respuestasPrueba=train_test_split(iris['data'],iris['target'])\n",
        "\n",
        "sgd_clasificador = SGDClassifier(loss=\"hinge\", penalty=\"l2\", max_iter=10)\n",
        "\n",
        "sgd_clasificador.fit(datosEntrenamiento,respuestasEntrenamiento)\n",
        "scoresgd = sgd_clasificador.score(datosPrueba, respuestasPrueba)*100\n",
        "print(scoresgd)"
      ],
      "execution_count": 86,
      "outputs": [
        {
          "output_type": "stream",
          "text": [
            "57.89473684210527\n"
          ],
          "name": "stdout"
        },
        {
          "output_type": "stream",
          "text": [
            "/usr/local/lib/python3.6/dist-packages/sklearn/linear_model/_stochastic_gradient.py:557: ConvergenceWarning: Maximum number of iteration reached before convergence. Consider increasing max_iter to improve the fit.\n",
            "  ConvergenceWarning)\n"
          ],
          "name": "stderr"
        }
      ]
    }
  ]
}