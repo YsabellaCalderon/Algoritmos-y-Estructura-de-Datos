{
  "nbformat": 4,
  "nbformat_minor": 0,
  "metadata": {
    "colab": {
      "name": "Taller Tipo Parcial.ipynb",
      "provenance": [],
      "collapsed_sections": []
    },
    "kernelspec": {
      "name": "python3",
      "display_name": "Python 3"
    }
  },
  "cells": [
    {
      "cell_type": "markdown",
      "metadata": {
        "id": "dV7v0V0GAqrX",
        "colab_type": "text"
      },
      "source": [
        "#Taller Tipo Parcial"
      ]
    },
    {
      "cell_type": "code",
      "metadata": {
        "id": "3BBJc70DAwnn",
        "colab_type": "code",
        "colab": {
          "base_uri": "https://localhost:8080/",
          "height": 139
        },
        "outputId": "babd57f0-38a6-4a5d-c603-67c43f42ca77"
      },
      "source": [
        "#Busca en mercado libre algún producto que te guste que no sea carros, \n",
        "#utilizando web scraping logra recolectar todos los títulos junto con sus precios.\n",
        "\n",
        "import requests \n",
        "url = 'https://listado.mercadolibre.com.co/laptop#D[A:laptop]'\n",
        "response = requests.get (url)\n",
        "print (response)\n",
        "\n",
        "import bs4\n",
        "\n",
        "parseo = bs4.BeautifulSoup (response.text, 'html.parser')\n",
        "getDataSelect = lambda clase : parseo.select(clase)\n",
        "dataTitle = parseo.select ('.ui-search-item__title')\n",
        "dataPrice = getDataSelect('.price-tag-fraction')\n",
        "print (dataTitle)\n",
        "print (dataPrice)\n",
        "nombreLaptop = []\n",
        "funcionExtraerTexto = lambda elemento : elemento.text\n",
        "funcionListaDatos = lambda funcion, data :  list (map (funcion,data))\n",
        "nombreLaptop = funcionListaDatos(funcionExtraerTexto, dataTitle)\n",
        "\n",
        "print (nombreLaptop)\n",
        "print (nombreLaptop)\n",
        "listaPrecios = funcionListaDatos(funcionExtraerTexto, dataPrice)\n",
        "print (listaPrecios)"
      ],
      "execution_count": 2,
      "outputs": [
        {
          "output_type": "stream",
          "text": [
            "<Response [200]>\n",
            "[<h2 class=\"ui-search-item__title\">Portatil Asus M409da-bv496 Ryzen 5 4gb Ssd 256gb Vega8 14 Hd</h2>, <h2 class=\"ui-search-item__title\">Portatil Hp 15-db0032la Amd A6 9225 256g Ssd 8g Ram Dvd </h2>, <h2 class=\"ui-search-item__title\">Portatil Asus X509ma-br289 Celeron N4020 4gb 1tb 15,6  Hd </h2>, <h2 class=\"ui-search-item__title\">Portatil Asus X509jb Core I5 1035g 4gb Ssd 512gb Tv 2gb 15,6</h2>, <h2 class=\"ui-search-item__title\">Portatil Asus M409da-bv387-ryzen5 3500-1tb-4ram-endless</h2>, <h2 class=\"ui-search-item__title\">Portátil Hp 14, Core I5 10gen, Ram 12gb, 256 Gb Ssd,quadcore</h2>, <h2 class=\"ui-search-item__title\">Portátil Hp 14 Amd Ryzen3, 256gb Ssd, Ram4gb, Pantalla Led  </h2>, <h2 class=\"ui-search-item__title\">Portatil Hp Notebook 15-dy1003la I5 4gb</h2>, <h2 class=\"ui-search-item__title\">Portátil Hp 14, Core I5 10gen, Ram 16gb, 512gb Ssd, Quadcore</h2>, <h2 class=\"ui-search-item__title\">Portatil Asus X409ma-bv066 Celeron N4000 4gb 1tb 14  Hd</h2>, <h2 class=\"ui-search-item__title\">Portátil Hp 245 G7 Amd E2 9000e 4gb 1tb 14 Pulgadas Linux</h2>, <h2 class=\"ui-search-item__title\">Dell G5 15 15.6 Intel Core I7 16 Ram Nvidia Geforce Gtx 1660</h2>, <h2 class=\"ui-search-item__title\">Huawei Matebook D 15 + Office + Antivirus + Morral</h2>, <h2 class=\"ui-search-item__title\">Acer Predator Helios 300 Gaming Laptop Pc, 17.3  Full Hd Ips</h2>, <h2 class=\"ui-search-item__title\">Portátil Asus X509jb-br086-core I7 1065g-1tb-12ram-mx110-end</h2>, <h2 class=\"ui-search-item__title\">Portátil Hp 14, Core I5 10gen, Ram 8gb, 512 Gb Ssd, Quadcore</h2>, <h2 class=\"ui-search-item__title\">Portatil Asus X512da-ej382- Ryzen7 3700u-1tb-vega 10-endless</h2>, <h2 class=\"ui-search-item__title\">Portatil Lenovo Notebook Decima Gen Core I5 Ram 4gb Hdd 1tb</h2>, <h2 class=\"ui-search-item__title\">Matebook D15'' R5+8g+256g   +morral+ Mouse Bluetoooth</h2>, <h2 class=\"ui-search-item__title\">Lenovo Laptop Trinkpad E490 Core I7 16g Ram Disco Solido 1 T</h2>, <h2 class=\"ui-search-item__title\">Portatil Asus M409da-bv387-ryzen5 3500-1tb-4ram-endless</h2>, <h2 class=\"ui-search-item__title\">Computador Portatil Laptop Dell Inspiron</h2>, <h2 class=\"ui-search-item__title\">Notebook Hp 245g7 R3-2200u 14 8gb</h2>, <h2 class=\"ui-search-item__title\">Asus Laptop Transformer Book T100ta Pc 10.1  Quad Core 32 Gb</h2>, <h2 class=\"ui-search-item__title\">Matebook D 14'' R5+8g+512g +morral+ Mouse Bluetooth</h2>, <h2 class=\"ui-search-item__title\">Msi Gf75 Thin 120hz Laptop . Intel Core I7-9750h </h2>, <h2 class=\"ui-search-item__title\">Portatil Lenovo E490 Intel Ci5 Ssd M.2 256gb Ram 8gb W10 </h2>, <h2 class=\"ui-search-item__title\">Portatil Asus X512da-ej382- Ryzen7 3700u-1tb-vega 10-endless</h2>, <h2 class=\"ui-search-item__title\">Portatil Asus X409m Celeron N4000-4gb-1tb 14¨+mouse Original</h2>, <h2 class=\"ui-search-item__title\">Msi Gp63 Leopard 15.6 Gaming Laptop</h2>, <h2 class=\"ui-search-item__title\">Laptop Acer Aspire V5-431( Repuestos)</h2>, <h2 class=\"ui-search-item__title\">Computador Portatil Laptop Dell Inspiron</h2>, <h2 class=\"ui-search-item__title\">Soporte Tripode Laptop  Computador Mesa Lenovo Dell</h2>, <h2 class=\"ui-search-item__title\">Portátil Hp Laptop 14dk-1003dx </h2>, <h2 class=\"ui-search-item__title\">Laptop Lenovo G465 (repuestos)</h2>, <h2 class=\"ui-search-item__title\">Portatil Hp 14-cf3036la I3-1005g1| 4gb | 1tb | 14 Hd | No To</h2>, <h2 class=\"ui-search-item__title\">Portátil Hp 14, Core I5 10gen, Ram 4gb, 256 Gb Ssd, Quadcore</h2>, <h2 class=\"ui-search-item__title\">Portátil Hp 14 Amd Ryzen3, 512gb Ssd, 12gb Ram, Video 2gb </h2>, <h2 class=\"ui-search-item__title\">Portátil Hp 14, Core I5 10gen, Ram 12gb, 512gb Ssd, Quadcore</h2>, <h2 class=\"ui-search-item__title\">Portátil Hp 14 Amd Ryzen3, 256gb Ssd, 12gb Ram, Video 2gb   </h2>, <h2 class=\"ui-search-item__title\">Laptop Intel Core I3 2gb Ram Negociable</h2>, <h2 class=\"ui-search-item__title\">Computador Portatil Laptop Dell Inspiron</h2>, <h2 class=\"ui-search-item__title\">Laptop Dell 2016 E7470 I7 16gb Ssd 256gb 14 1080p Hdmi Win10</h2>, <h2 class=\"ui-search-item__title\">Laptop Asus Fx504ge-e4644t Gaming I7 8va Gen 8 Gb 1tb</h2>, <h2 class=\"ui-search-item__title\">Computador Huawei Matebook 13 2020  + Audífonos + Router</h2>, <h2 class=\"ui-search-item__title\">Computador Portátil Laptop Pc Gamer Gaming Lenovo Y40</h2>, <h2 class=\"ui-search-item__title\">Portatil Notebook Convertible  Hp Pavilion 11p - Repuestos</h2>, <h2 class=\"ui-search-item__title\">Computador Huawei Matebook X Pro De 256 Gb</h2>, <h2 class=\"ui-search-item__title\">Laptop Acer Switch One 10 Premium 2-in-1 Laptop Tablet, 10.1</h2>, <h2 class=\"ui-search-item__title\">Portatil Hp 240 G7 Core I5-8265 4gb Dd 1tb +  Windws 10 Pro</h2>]\n",
            "[<span class=\"price-tag-fraction\">1.778.000</span>, <span class=\"price-tag-fraction\">49.389</span>, <span class=\"price-tag-fraction\">1.540.000</span>, <span class=\"price-tag-fraction\">128.333</span>, <span class=\"price-tag-fraction\">1.349.800</span>, <span class=\"price-tag-fraction\">37.494</span>, <span class=\"price-tag-fraction\">2.499.800</span>, <span class=\"price-tag-fraction\">69.439</span>, <span class=\"price-tag-fraction\">1.779.000</span>, <span class=\"price-tag-fraction\">49.417</span>, <span class=\"price-tag-fraction\">2.899.000</span>, <span class=\"price-tag-fraction\">2.589.000</span>, <span class=\"price-tag-fraction\">71.917</span>, <span class=\"price-tag-fraction\">2.300.000</span>, <span class=\"price-tag-fraction\">1.780.000</span>, <span class=\"price-tag-fraction\">49.444</span>, <span class=\"price-tag-fraction\">3.209.000</span>, <span class=\"price-tag-fraction\">89.139</span>, <span class=\"price-tag-fraction\">3.600.000</span>, <span class=\"price-tag-fraction\">3.199.000</span>, <span class=\"price-tag-fraction\">88.861</span>, <span class=\"price-tag-fraction\">1.389.900</span>, <span class=\"price-tag-fraction\">38.608</span>, <span class=\"price-tag-fraction\">1.229.000</span>, <span class=\"price-tag-fraction\">34.139</span>, <span class=\"price-tag-fraction\">5.799.000</span>, <span class=\"price-tag-fraction\">161.083</span>, <span class=\"price-tag-fraction\">2.549.900</span>, <span class=\"price-tag-fraction\">70.831</span>, <span class=\"price-tag-fraction\">6.890.000</span>, <span class=\"price-tag-fraction\">191.389</span>, <span class=\"price-tag-fraction\">3.549.000</span>, <span class=\"price-tag-fraction\">98.583</span>, <span class=\"price-tag-fraction\">3.300.000</span>, <span class=\"price-tag-fraction\">2.899.000</span>, <span class=\"price-tag-fraction\">80.528</span>, <span class=\"price-tag-fraction\">2.899.000</span>, <span class=\"price-tag-fraction\">80.528</span>, <span class=\"price-tag-fraction\">2.579.999</span>, <span class=\"price-tag-fraction\">71.667</span>, <span class=\"price-tag-fraction\">2.549.900</span>, <span class=\"price-tag-fraction\">70.831</span>, <span class=\"price-tag-fraction\">4.690.900</span>, <span class=\"price-tag-fraction\">390.908</span>, <span class=\"price-tag-fraction\">1.779.900</span>, <span class=\"price-tag-fraction\">49.442</span>, <span class=\"price-tag-fraction\">408.992</span>, <span class=\"price-tag-fraction\">11.361</span>, <span class=\"price-tag-fraction\">1.849.000</span>, <span class=\"price-tag-fraction\">51.361</span>, <span class=\"price-tag-fraction\">1.099.000</span>, <span class=\"price-tag-fraction\">30.528</span>, <span class=\"price-tag-fraction\">2.709.900</span>, <span class=\"price-tag-fraction\">75.275</span>, <span class=\"price-tag-fraction\">4.650.000</span>, <span class=\"price-tag-fraction\">387.500</span>, <span class=\"price-tag-fraction\">2.399.000</span>, <span class=\"price-tag-fraction\">66.639</span>, <span class=\"price-tag-fraction\">3.886.999</span>, <span class=\"price-tag-fraction\">2.879.000</span>, <span class=\"price-tag-fraction\">79.972</span>, <span class=\"price-tag-fraction\">1.279.800</span>, <span class=\"price-tag-fraction\">35.550</span>, <span class=\"price-tag-fraction\">2.652.741</span>, <span class=\"price-tag-fraction\">221.062</span>, <span class=\"price-tag-fraction\">160.000</span>, <span class=\"price-tag-fraction\">4.444</span>, <span class=\"price-tag-fraction\">348.992</span>, <span class=\"price-tag-fraction\">9.694</span>, <span class=\"price-tag-fraction\">268.000</span>, <span class=\"price-tag-fraction\">7.444</span>, <span class=\"price-tag-fraction\">1.699.900</span>, <span class=\"price-tag-fraction\">47.219</span>, <span class=\"price-tag-fraction\">250.000</span>, <span class=\"price-tag-fraction\">6.944</span>, <span class=\"price-tag-fraction\">1.721.111</span>, <span class=\"price-tag-fraction\">47.809</span>, <span class=\"price-tag-fraction\">2.700.000</span>, <span class=\"price-tag-fraction\">2.389.000</span>, <span class=\"price-tag-fraction\">66.361</span>, <span class=\"price-tag-fraction\">2.950.000</span>, <span class=\"price-tag-fraction\">2.699.000</span>, <span class=\"price-tag-fraction\">74.972</span>, <span class=\"price-tag-fraction\">3.450.000</span>, <span class=\"price-tag-fraction\">2.999.000</span>, <span class=\"price-tag-fraction\">83.306</span>, <span class=\"price-tag-fraction\">2.750.000</span>, <span class=\"price-tag-fraction\">2.399.000</span>, <span class=\"price-tag-fraction\">66.639</span>, <span class=\"price-tag-fraction\">350.000</span>, <span class=\"price-tag-fraction\">29.167</span>, <span class=\"price-tag-fraction\">482.009</span>, <span class=\"price-tag-fraction\">13.389</span>, <span class=\"price-tag-fraction\">2.499.500</span>, <span class=\"price-tag-fraction\">208.292</span>, <span class=\"price-tag-fraction\">5.500.000</span>, <span class=\"price-tag-fraction\">458.333</span>, <span class=\"price-tag-fraction\">1.500.000</span>, <span class=\"price-tag-fraction\">125.000</span>, <span class=\"price-tag-fraction\">1.990.000</span>, <span class=\"price-tag-fraction\">165.833</span>, <span class=\"price-tag-fraction\">450.000</span>, <span class=\"price-tag-fraction\">12.500</span>, <span class=\"price-tag-fraction\">4.500.000</span>, <span class=\"price-tag-fraction\">375.000</span>, <span class=\"price-tag-fraction\">700.000</span>, <span class=\"price-tag-fraction\">19.444</span>, <span class=\"price-tag-fraction\">2.800.000</span>, <span class=\"price-tag-fraction\">77.778</span>]\n",
            "['Portatil Asus M409da-bv496 Ryzen 5 4gb Ssd 256gb Vega8 14 Hd', 'Portatil Hp 15-db0032la Amd A6 9225 256g Ssd 8g Ram Dvd ', 'Portatil Asus X509ma-br289 Celeron N4020 4gb 1tb 15,6  Hd ', 'Portatil Asus X509jb Core I5 1035g 4gb Ssd 512gb Tv 2gb 15,6', 'Portatil Asus M409da-bv387-ryzen5 3500-1tb-4ram-endless', 'Portátil Hp 14, Core I5 10gen, Ram 12gb, 256 Gb Ssd,quadcore', 'Portátil Hp 14 Amd Ryzen3, 256gb Ssd, Ram4gb, Pantalla Led  ', 'Portatil Hp Notebook 15-dy1003la I5 4gb', 'Portátil Hp 14, Core I5 10gen, Ram 16gb, 512gb Ssd, Quadcore', 'Portatil Asus X409ma-bv066 Celeron N4000 4gb 1tb 14  Hd', 'Portátil Hp 245 G7 Amd E2 9000e 4gb 1tb 14 Pulgadas Linux', 'Dell G5 15 15.6 Intel Core I7 16 Ram Nvidia Geforce Gtx 1660', 'Huawei Matebook D 15 + Office + Antivirus + Morral', 'Acer Predator Helios 300 Gaming Laptop Pc, 17.3  Full Hd Ips', 'Portátil Asus X509jb-br086-core I7 1065g-1tb-12ram-mx110-end', 'Portátil Hp 14, Core I5 10gen, Ram 8gb, 512 Gb Ssd, Quadcore', 'Portatil Asus X512da-ej382- Ryzen7 3700u-1tb-vega 10-endless', 'Portatil Lenovo Notebook Decima Gen Core I5 Ram 4gb Hdd 1tb', \"Matebook D15'' R5+8g+256g   +morral+ Mouse Bluetoooth\", 'Lenovo Laptop Trinkpad E490 Core I7 16g Ram Disco Solido 1 T', 'Portatil Asus M409da-bv387-ryzen5 3500-1tb-4ram-endless', 'Computador Portatil Laptop Dell Inspiron', 'Notebook Hp 245g7 R3-2200u 14 8gb', 'Asus Laptop Transformer Book T100ta Pc 10.1  Quad Core 32 Gb', \"Matebook D 14'' R5+8g+512g +morral+ Mouse Bluetooth\", 'Msi Gf75 Thin 120hz Laptop . Intel Core I7-9750h ', 'Portatil Lenovo E490 Intel Ci5 Ssd M.2 256gb Ram 8gb W10 ', 'Portatil Asus X512da-ej382- Ryzen7 3700u-1tb-vega 10-endless', 'Portatil Asus X409m Celeron N4000-4gb-1tb 14¨+mouse Original', 'Msi Gp63 Leopard 15.6 Gaming Laptop', 'Laptop Acer Aspire V5-431( Repuestos)', 'Computador Portatil Laptop Dell Inspiron', 'Soporte Tripode Laptop  Computador Mesa Lenovo Dell', 'Portátil Hp Laptop 14dk-1003dx ', 'Laptop Lenovo G465 (repuestos)', 'Portatil Hp 14-cf3036la I3-1005g1| 4gb | 1tb | 14 Hd | No To', 'Portátil Hp 14, Core I5 10gen, Ram 4gb, 256 Gb Ssd, Quadcore', 'Portátil Hp 14 Amd Ryzen3, 512gb Ssd, 12gb Ram, Video 2gb ', 'Portátil Hp 14, Core I5 10gen, Ram 12gb, 512gb Ssd, Quadcore', 'Portátil Hp 14 Amd Ryzen3, 256gb Ssd, 12gb Ram, Video 2gb   ', 'Laptop Intel Core I3 2gb Ram Negociable', 'Computador Portatil Laptop Dell Inspiron', 'Laptop Dell 2016 E7470 I7 16gb Ssd 256gb 14 1080p Hdmi Win10', 'Laptop Asus Fx504ge-e4644t Gaming I7 8va Gen 8 Gb 1tb', 'Computador Huawei Matebook 13 2020  + Audífonos + Router', 'Computador Portátil Laptop Pc Gamer Gaming Lenovo Y40', 'Portatil Notebook Convertible  Hp Pavilion 11p - Repuestos', 'Computador Huawei Matebook X Pro De 256 Gb', 'Laptop Acer Switch One 10 Premium 2-in-1 Laptop Tablet, 10.1', 'Portatil Hp 240 G7 Core I5-8265 4gb Dd 1tb +  Windws 10 Pro']\n",
            "['Portatil Asus M409da-bv496 Ryzen 5 4gb Ssd 256gb Vega8 14 Hd', 'Portatil Hp 15-db0032la Amd A6 9225 256g Ssd 8g Ram Dvd ', 'Portatil Asus X509ma-br289 Celeron N4020 4gb 1tb 15,6  Hd ', 'Portatil Asus X509jb Core I5 1035g 4gb Ssd 512gb Tv 2gb 15,6', 'Portatil Asus M409da-bv387-ryzen5 3500-1tb-4ram-endless', 'Portátil Hp 14, Core I5 10gen, Ram 12gb, 256 Gb Ssd,quadcore', 'Portátil Hp 14 Amd Ryzen3, 256gb Ssd, Ram4gb, Pantalla Led  ', 'Portatil Hp Notebook 15-dy1003la I5 4gb', 'Portátil Hp 14, Core I5 10gen, Ram 16gb, 512gb Ssd, Quadcore', 'Portatil Asus X409ma-bv066 Celeron N4000 4gb 1tb 14  Hd', 'Portátil Hp 245 G7 Amd E2 9000e 4gb 1tb 14 Pulgadas Linux', 'Dell G5 15 15.6 Intel Core I7 16 Ram Nvidia Geforce Gtx 1660', 'Huawei Matebook D 15 + Office + Antivirus + Morral', 'Acer Predator Helios 300 Gaming Laptop Pc, 17.3  Full Hd Ips', 'Portátil Asus X509jb-br086-core I7 1065g-1tb-12ram-mx110-end', 'Portátil Hp 14, Core I5 10gen, Ram 8gb, 512 Gb Ssd, Quadcore', 'Portatil Asus X512da-ej382- Ryzen7 3700u-1tb-vega 10-endless', 'Portatil Lenovo Notebook Decima Gen Core I5 Ram 4gb Hdd 1tb', \"Matebook D15'' R5+8g+256g   +morral+ Mouse Bluetoooth\", 'Lenovo Laptop Trinkpad E490 Core I7 16g Ram Disco Solido 1 T', 'Portatil Asus M409da-bv387-ryzen5 3500-1tb-4ram-endless', 'Computador Portatil Laptop Dell Inspiron', 'Notebook Hp 245g7 R3-2200u 14 8gb', 'Asus Laptop Transformer Book T100ta Pc 10.1  Quad Core 32 Gb', \"Matebook D 14'' R5+8g+512g +morral+ Mouse Bluetooth\", 'Msi Gf75 Thin 120hz Laptop . Intel Core I7-9750h ', 'Portatil Lenovo E490 Intel Ci5 Ssd M.2 256gb Ram 8gb W10 ', 'Portatil Asus X512da-ej382- Ryzen7 3700u-1tb-vega 10-endless', 'Portatil Asus X409m Celeron N4000-4gb-1tb 14¨+mouse Original', 'Msi Gp63 Leopard 15.6 Gaming Laptop', 'Laptop Acer Aspire V5-431( Repuestos)', 'Computador Portatil Laptop Dell Inspiron', 'Soporte Tripode Laptop  Computador Mesa Lenovo Dell', 'Portátil Hp Laptop 14dk-1003dx ', 'Laptop Lenovo G465 (repuestos)', 'Portatil Hp 14-cf3036la I3-1005g1| 4gb | 1tb | 14 Hd | No To', 'Portátil Hp 14, Core I5 10gen, Ram 4gb, 256 Gb Ssd, Quadcore', 'Portátil Hp 14 Amd Ryzen3, 512gb Ssd, 12gb Ram, Video 2gb ', 'Portátil Hp 14, Core I5 10gen, Ram 12gb, 512gb Ssd, Quadcore', 'Portátil Hp 14 Amd Ryzen3, 256gb Ssd, 12gb Ram, Video 2gb   ', 'Laptop Intel Core I3 2gb Ram Negociable', 'Computador Portatil Laptop Dell Inspiron', 'Laptop Dell 2016 E7470 I7 16gb Ssd 256gb 14 1080p Hdmi Win10', 'Laptop Asus Fx504ge-e4644t Gaming I7 8va Gen 8 Gb 1tb', 'Computador Huawei Matebook 13 2020  + Audífonos + Router', 'Computador Portátil Laptop Pc Gamer Gaming Lenovo Y40', 'Portatil Notebook Convertible  Hp Pavilion 11p - Repuestos', 'Computador Huawei Matebook X Pro De 256 Gb', 'Laptop Acer Switch One 10 Premium 2-in-1 Laptop Tablet, 10.1', 'Portatil Hp 240 G7 Core I5-8265 4gb Dd 1tb +  Windws 10 Pro']\n",
            "['1.778.000', '49.389', '1.540.000', '128.333', '1.349.800', '37.494', '2.499.800', '69.439', '1.779.000', '49.417', '2.899.000', '2.589.000', '71.917', '2.300.000', '1.780.000', '49.444', '3.209.000', '89.139', '3.600.000', '3.199.000', '88.861', '1.389.900', '38.608', '1.229.000', '34.139', '5.799.000', '161.083', '2.549.900', '70.831', '6.890.000', '191.389', '3.549.000', '98.583', '3.300.000', '2.899.000', '80.528', '2.899.000', '80.528', '2.579.999', '71.667', '2.549.900', '70.831', '4.690.900', '390.908', '1.779.900', '49.442', '408.992', '11.361', '1.849.000', '51.361', '1.099.000', '30.528', '2.709.900', '75.275', '4.650.000', '387.500', '2.399.000', '66.639', '3.886.999', '2.879.000', '79.972', '1.279.800', '35.550', '2.652.741', '221.062', '160.000', '4.444', '348.992', '9.694', '268.000', '7.444', '1.699.900', '47.219', '250.000', '6.944', '1.721.111', '47.809', '2.700.000', '2.389.000', '66.361', '2.950.000', '2.699.000', '74.972', '3.450.000', '2.999.000', '83.306', '2.750.000', '2.399.000', '66.639', '350.000', '29.167', '482.009', '13.389', '2.499.500', '208.292', '5.500.000', '458.333', '1.500.000', '125.000', '1.990.000', '165.833', '450.000', '12.500', '4.500.000', '375.000', '700.000', '19.444', '2.800.000', '77.778']\n"
          ],
          "name": "stdout"
        }
      ]
    },
    {
      "cell_type": "code",
      "metadata": {
        "id": "laZgzrjsEDp9",
        "colab_type": "code",
        "colab": {
          "base_uri": "https://localhost:8080/",
          "height": 34
        },
        "outputId": "2a8c6c63-798d-4660-f5a0-327a9c22fb31"
      },
      "source": [
        "import pandas as pd\n",
        "dictLaptop = {}\n",
        "dictLaptop ['Titulos'] = nombreLaptop [:30]\n",
        "print (len (nombreLaptop), len (listaPrecios)) \n",
        "dictLaptop ['Precios'] = listaPrecios [:30]\n",
        "laptopDataFrame = pd.DataFrame(dictLaptop)\n",
        "laptopDataFrame.to_csv('Laptop.csv', index=False)"
      ],
      "execution_count": 3,
      "outputs": [
        {
          "output_type": "stream",
          "text": [
            "50 109\n"
          ],
          "name": "stdout"
        }
      ]
    },
    {
      "cell_type": "code",
      "metadata": {
        "id": "QixDzYjKE8BP",
        "colab_type": "code",
        "colab": {
          "base_uri": "https://localhost:8080/",
          "height": 71
        },
        "outputId": "13d93493-a467-48c9-a352-ac9ed2f53c8b"
      },
      "source": [
        "#Utilizando funciones lambda y map agrega a la lista de títulos el nombre del producto por\n",
        "#ejemplo carro: título y cree un nuevo dataframe con el mismo. Guárdelo en un csv\n",
        "\n",
        "FuncionAgregarLaptop = lambda elemento : 'Laptop : ' + elemento\n",
        "titulosLaptop = list (map(FuncionAgregarLaptop,nombreLaptop))\n",
        "print (titulosLaptop)\n",
        "TitulosLaptop2 = funcionListaDatos (FuncionAgregarLaptop, nombreLaptop )\n",
        "print (TitulosLaptop2)\n",
        "dictLaptop = {}\n",
        "dictLaptop['Titulos'] = TitulosLaptop2[:30]\n",
        "dictLaptop ['Precios'] = listaPrecios[:30]\n",
        "laptopDataFrameMOD = pd.DataFrame(dictLaptop)\n",
        "laptopDataFrameMOD.to_csv('LaptopMOD.csv', index= False) "
      ],
      "execution_count": 4,
      "outputs": [
        {
          "output_type": "stream",
          "text": [
            "['Laptop : Portatil Asus M409da-bv496 Ryzen 5 4gb Ssd 256gb Vega8 14 Hd', 'Laptop : Portatil Hp 15-db0032la Amd A6 9225 256g Ssd 8g Ram Dvd ', 'Laptop : Portatil Asus X509ma-br289 Celeron N4020 4gb 1tb 15,6  Hd ', 'Laptop : Portatil Asus X509jb Core I5 1035g 4gb Ssd 512gb Tv 2gb 15,6', 'Laptop : Portatil Asus M409da-bv387-ryzen5 3500-1tb-4ram-endless', 'Laptop : Portátil Hp 14, Core I5 10gen, Ram 12gb, 256 Gb Ssd,quadcore', 'Laptop : Portátil Hp 14 Amd Ryzen3, 256gb Ssd, Ram4gb, Pantalla Led  ', 'Laptop : Portatil Hp Notebook 15-dy1003la I5 4gb', 'Laptop : Portátil Hp 14, Core I5 10gen, Ram 16gb, 512gb Ssd, Quadcore', 'Laptop : Portatil Asus X409ma-bv066 Celeron N4000 4gb 1tb 14  Hd', 'Laptop : Portátil Hp 245 G7 Amd E2 9000e 4gb 1tb 14 Pulgadas Linux', 'Laptop : Dell G5 15 15.6 Intel Core I7 16 Ram Nvidia Geforce Gtx 1660', 'Laptop : Huawei Matebook D 15 + Office + Antivirus + Morral', 'Laptop : Acer Predator Helios 300 Gaming Laptop Pc, 17.3  Full Hd Ips', 'Laptop : Portátil Asus X509jb-br086-core I7 1065g-1tb-12ram-mx110-end', 'Laptop : Portátil Hp 14, Core I5 10gen, Ram 8gb, 512 Gb Ssd, Quadcore', 'Laptop : Portatil Asus X512da-ej382- Ryzen7 3700u-1tb-vega 10-endless', 'Laptop : Portatil Lenovo Notebook Decima Gen Core I5 Ram 4gb Hdd 1tb', \"Laptop : Matebook D15'' R5+8g+256g   +morral+ Mouse Bluetoooth\", 'Laptop : Lenovo Laptop Trinkpad E490 Core I7 16g Ram Disco Solido 1 T', 'Laptop : Portatil Asus M409da-bv387-ryzen5 3500-1tb-4ram-endless', 'Laptop : Computador Portatil Laptop Dell Inspiron', 'Laptop : Notebook Hp 245g7 R3-2200u 14 8gb', 'Laptop : Asus Laptop Transformer Book T100ta Pc 10.1  Quad Core 32 Gb', \"Laptop : Matebook D 14'' R5+8g+512g +morral+ Mouse Bluetooth\", 'Laptop : Msi Gf75 Thin 120hz Laptop . Intel Core I7-9750h ', 'Laptop : Portatil Lenovo E490 Intel Ci5 Ssd M.2 256gb Ram 8gb W10 ', 'Laptop : Portatil Asus X512da-ej382- Ryzen7 3700u-1tb-vega 10-endless', 'Laptop : Portatil Asus X409m Celeron N4000-4gb-1tb 14¨+mouse Original', 'Laptop : Msi Gp63 Leopard 15.6 Gaming Laptop', 'Laptop : Laptop Acer Aspire V5-431( Repuestos)', 'Laptop : Computador Portatil Laptop Dell Inspiron', 'Laptop : Soporte Tripode Laptop  Computador Mesa Lenovo Dell', 'Laptop : Portátil Hp Laptop 14dk-1003dx ', 'Laptop : Laptop Lenovo G465 (repuestos)', 'Laptop : Portatil Hp 14-cf3036la I3-1005g1| 4gb | 1tb | 14 Hd | No To', 'Laptop : Portátil Hp 14, Core I5 10gen, Ram 4gb, 256 Gb Ssd, Quadcore', 'Laptop : Portátil Hp 14 Amd Ryzen3, 512gb Ssd, 12gb Ram, Video 2gb ', 'Laptop : Portátil Hp 14, Core I5 10gen, Ram 12gb, 512gb Ssd, Quadcore', 'Laptop : Portátil Hp 14 Amd Ryzen3, 256gb Ssd, 12gb Ram, Video 2gb   ', 'Laptop : Laptop Intel Core I3 2gb Ram Negociable', 'Laptop : Computador Portatil Laptop Dell Inspiron', 'Laptop : Laptop Dell 2016 E7470 I7 16gb Ssd 256gb 14 1080p Hdmi Win10', 'Laptop : Laptop Asus Fx504ge-e4644t Gaming I7 8va Gen 8 Gb 1tb', 'Laptop : Computador Huawei Matebook 13 2020  + Audífonos + Router', 'Laptop : Computador Portátil Laptop Pc Gamer Gaming Lenovo Y40', 'Laptop : Portatil Notebook Convertible  Hp Pavilion 11p - Repuestos', 'Laptop : Computador Huawei Matebook X Pro De 256 Gb', 'Laptop : Laptop Acer Switch One 10 Premium 2-in-1 Laptop Tablet, 10.1', 'Laptop : Portatil Hp 240 G7 Core I5-8265 4gb Dd 1tb +  Windws 10 Pro']\n",
            "['Laptop : Portatil Asus M409da-bv496 Ryzen 5 4gb Ssd 256gb Vega8 14 Hd', 'Laptop : Portatil Hp 15-db0032la Amd A6 9225 256g Ssd 8g Ram Dvd ', 'Laptop : Portatil Asus X509ma-br289 Celeron N4020 4gb 1tb 15,6  Hd ', 'Laptop : Portatil Asus X509jb Core I5 1035g 4gb Ssd 512gb Tv 2gb 15,6', 'Laptop : Portatil Asus M409da-bv387-ryzen5 3500-1tb-4ram-endless', 'Laptop : Portátil Hp 14, Core I5 10gen, Ram 12gb, 256 Gb Ssd,quadcore', 'Laptop : Portátil Hp 14 Amd Ryzen3, 256gb Ssd, Ram4gb, Pantalla Led  ', 'Laptop : Portatil Hp Notebook 15-dy1003la I5 4gb', 'Laptop : Portátil Hp 14, Core I5 10gen, Ram 16gb, 512gb Ssd, Quadcore', 'Laptop : Portatil Asus X409ma-bv066 Celeron N4000 4gb 1tb 14  Hd', 'Laptop : Portátil Hp 245 G7 Amd E2 9000e 4gb 1tb 14 Pulgadas Linux', 'Laptop : Dell G5 15 15.6 Intel Core I7 16 Ram Nvidia Geforce Gtx 1660', 'Laptop : Huawei Matebook D 15 + Office + Antivirus + Morral', 'Laptop : Acer Predator Helios 300 Gaming Laptop Pc, 17.3  Full Hd Ips', 'Laptop : Portátil Asus X509jb-br086-core I7 1065g-1tb-12ram-mx110-end', 'Laptop : Portátil Hp 14, Core I5 10gen, Ram 8gb, 512 Gb Ssd, Quadcore', 'Laptop : Portatil Asus X512da-ej382- Ryzen7 3700u-1tb-vega 10-endless', 'Laptop : Portatil Lenovo Notebook Decima Gen Core I5 Ram 4gb Hdd 1tb', \"Laptop : Matebook D15'' R5+8g+256g   +morral+ Mouse Bluetoooth\", 'Laptop : Lenovo Laptop Trinkpad E490 Core I7 16g Ram Disco Solido 1 T', 'Laptop : Portatil Asus M409da-bv387-ryzen5 3500-1tb-4ram-endless', 'Laptop : Computador Portatil Laptop Dell Inspiron', 'Laptop : Notebook Hp 245g7 R3-2200u 14 8gb', 'Laptop : Asus Laptop Transformer Book T100ta Pc 10.1  Quad Core 32 Gb', \"Laptop : Matebook D 14'' R5+8g+512g +morral+ Mouse Bluetooth\", 'Laptop : Msi Gf75 Thin 120hz Laptop . Intel Core I7-9750h ', 'Laptop : Portatil Lenovo E490 Intel Ci5 Ssd M.2 256gb Ram 8gb W10 ', 'Laptop : Portatil Asus X512da-ej382- Ryzen7 3700u-1tb-vega 10-endless', 'Laptop : Portatil Asus X409m Celeron N4000-4gb-1tb 14¨+mouse Original', 'Laptop : Msi Gp63 Leopard 15.6 Gaming Laptop', 'Laptop : Laptop Acer Aspire V5-431( Repuestos)', 'Laptop : Computador Portatil Laptop Dell Inspiron', 'Laptop : Soporte Tripode Laptop  Computador Mesa Lenovo Dell', 'Laptop : Portátil Hp Laptop 14dk-1003dx ', 'Laptop : Laptop Lenovo G465 (repuestos)', 'Laptop : Portatil Hp 14-cf3036la I3-1005g1| 4gb | 1tb | 14 Hd | No To', 'Laptop : Portátil Hp 14, Core I5 10gen, Ram 4gb, 256 Gb Ssd, Quadcore', 'Laptop : Portátil Hp 14 Amd Ryzen3, 512gb Ssd, 12gb Ram, Video 2gb ', 'Laptop : Portátil Hp 14, Core I5 10gen, Ram 12gb, 512gb Ssd, Quadcore', 'Laptop : Portátil Hp 14 Amd Ryzen3, 256gb Ssd, 12gb Ram, Video 2gb   ', 'Laptop : Laptop Intel Core I3 2gb Ram Negociable', 'Laptop : Computador Portatil Laptop Dell Inspiron', 'Laptop : Laptop Dell 2016 E7470 I7 16gb Ssd 256gb 14 1080p Hdmi Win10', 'Laptop : Laptop Asus Fx504ge-e4644t Gaming I7 8va Gen 8 Gb 1tb', 'Laptop : Computador Huawei Matebook 13 2020  + Audífonos + Router', 'Laptop : Computador Portátil Laptop Pc Gamer Gaming Lenovo Y40', 'Laptop : Portatil Notebook Convertible  Hp Pavilion 11p - Repuestos', 'Laptop : Computador Huawei Matebook X Pro De 256 Gb', 'Laptop : Laptop Acer Switch One 10 Premium 2-in-1 Laptop Tablet, 10.1', 'Laptop : Portatil Hp 240 G7 Core I5-8265 4gb Dd 1tb +  Windws 10 Pro']\n"
          ],
          "name": "stdout"
        }
      ]
    },
    {
      "cell_type": "code",
      "metadata": {
        "id": "pgkjdrI8Fm1O",
        "colab_type": "code",
        "colab": {
          "base_uri": "https://localhost:8080/",
          "height": 71
        },
        "outputId": "10decb9d-58cc-47f8-a38b-3feabfb50fa9"
      },
      "source": [
        "#Utilizando funciones filter filtre los títulos por una marca y cree un data frame y guárdelo\n",
        "#en un csv\n",
        "\n",
        "asus = lambda elemento : 'Asus' in elemento \n",
        "hp = lambda elemento : 'Hp' in elemento\n",
        "\n",
        "listaAsus = list (filter(asus, titulosLaptop))\n",
        "print (listaAsus)\n",
        "\n",
        "listaHp = list (filter(hp, titulosLaptop))\n",
        "print (listaHp)\n",
        "\n",
        "\n",
        "toyotaSerie = pd.Series(listaAsus)\n",
        "toyotaSerie.to_csv('Asus.csv',  index_label='Asus')\n",
        "\n",
        "hpSerie = pd.Series(listaHp)\n",
        "hpSerie.to_csv('Hp.csv',  index_label='Hp')\n",
        "\n",
        "\n",
        "\n"
      ],
      "execution_count": 5,
      "outputs": [
        {
          "output_type": "stream",
          "text": [
            "['Laptop : Portatil Asus M409da-bv496 Ryzen 5 4gb Ssd 256gb Vega8 14 Hd', 'Laptop : Portatil Asus X509ma-br289 Celeron N4020 4gb 1tb 15,6  Hd ', 'Laptop : Portatil Asus X509jb Core I5 1035g 4gb Ssd 512gb Tv 2gb 15,6', 'Laptop : Portatil Asus M409da-bv387-ryzen5 3500-1tb-4ram-endless', 'Laptop : Portatil Asus X409ma-bv066 Celeron N4000 4gb 1tb 14  Hd', 'Laptop : Portátil Asus X509jb-br086-core I7 1065g-1tb-12ram-mx110-end', 'Laptop : Portatil Asus X512da-ej382- Ryzen7 3700u-1tb-vega 10-endless', 'Laptop : Portatil Asus M409da-bv387-ryzen5 3500-1tb-4ram-endless', 'Laptop : Asus Laptop Transformer Book T100ta Pc 10.1  Quad Core 32 Gb', 'Laptop : Portatil Asus X512da-ej382- Ryzen7 3700u-1tb-vega 10-endless', 'Laptop : Portatil Asus X409m Celeron N4000-4gb-1tb 14¨+mouse Original', 'Laptop : Laptop Asus Fx504ge-e4644t Gaming I7 8va Gen 8 Gb 1tb']\n",
            "['Laptop : Portatil Hp 15-db0032la Amd A6 9225 256g Ssd 8g Ram Dvd ', 'Laptop : Portátil Hp 14, Core I5 10gen, Ram 12gb, 256 Gb Ssd,quadcore', 'Laptop : Portátil Hp 14 Amd Ryzen3, 256gb Ssd, Ram4gb, Pantalla Led  ', 'Laptop : Portatil Hp Notebook 15-dy1003la I5 4gb', 'Laptop : Portátil Hp 14, Core I5 10gen, Ram 16gb, 512gb Ssd, Quadcore', 'Laptop : Portátil Hp 245 G7 Amd E2 9000e 4gb 1tb 14 Pulgadas Linux', 'Laptop : Portátil Hp 14, Core I5 10gen, Ram 8gb, 512 Gb Ssd, Quadcore', 'Laptop : Notebook Hp 245g7 R3-2200u 14 8gb', 'Laptop : Portátil Hp Laptop 14dk-1003dx ', 'Laptop : Portatil Hp 14-cf3036la I3-1005g1| 4gb | 1tb | 14 Hd | No To', 'Laptop : Portátil Hp 14, Core I5 10gen, Ram 4gb, 256 Gb Ssd, Quadcore', 'Laptop : Portátil Hp 14 Amd Ryzen3, 512gb Ssd, 12gb Ram, Video 2gb ', 'Laptop : Portátil Hp 14, Core I5 10gen, Ram 12gb, 512gb Ssd, Quadcore', 'Laptop : Portátil Hp 14 Amd Ryzen3, 256gb Ssd, 12gb Ram, Video 2gb   ', 'Laptop : Portatil Notebook Convertible  Hp Pavilion 11p - Repuestos', 'Laptop : Portatil Hp 240 G7 Core I5-8265 4gb Dd 1tb +  Windws 10 Pro']\n"
          ],
          "name": "stdout"
        }
      ]
    },
    {
      "cell_type": "code",
      "metadata": {
        "id": "MJj8hAIPHcoR",
        "colab_type": "code",
        "colab": {
          "base_uri": "https://localhost:8080/",
          "height": 54
        },
        "outputId": "c629a24f-45fa-42e6-c90f-94e4bf8e2c52"
      },
      "source": [
        "#Utilizando funciones reduce muestre la sumatoria de todos los títulos, muéstrelo en pantalla\n",
        "\n",
        "from functools import reduce\n",
        "titulosLaptop = list (nombreLaptop)\n",
        "sumador = lambda acumulado = 0, elemento = 0: acumulado + elemento\n",
        "suma_nombres = reduce (sumador, titulosLaptop)\n",
        "print (suma_nombres)"
      ],
      "execution_count": 6,
      "outputs": [
        {
          "output_type": "stream",
          "text": [
            "Portatil Asus M409da-bv496 Ryzen 5 4gb Ssd 256gb Vega8 14 HdPortatil Hp 15-db0032la Amd A6 9225 256g Ssd 8g Ram Dvd Portatil Asus X509ma-br289 Celeron N4020 4gb 1tb 15,6  Hd Portatil Asus X509jb Core I5 1035g 4gb Ssd 512gb Tv 2gb 15,6Portatil Asus M409da-bv387-ryzen5 3500-1tb-4ram-endlessPortátil Hp 14, Core I5 10gen, Ram 12gb, 256 Gb Ssd,quadcorePortátil Hp 14 Amd Ryzen3, 256gb Ssd, Ram4gb, Pantalla Led  Portatil Hp Notebook 15-dy1003la I5 4gbPortátil Hp 14, Core I5 10gen, Ram 16gb, 512gb Ssd, QuadcorePortatil Asus X409ma-bv066 Celeron N4000 4gb 1tb 14  HdPortátil Hp 245 G7 Amd E2 9000e 4gb 1tb 14 Pulgadas LinuxDell G5 15 15.6 Intel Core I7 16 Ram Nvidia Geforce Gtx 1660Huawei Matebook D 15 + Office + Antivirus + MorralAcer Predator Helios 300 Gaming Laptop Pc, 17.3  Full Hd IpsPortátil Asus X509jb-br086-core I7 1065g-1tb-12ram-mx110-endPortátil Hp 14, Core I5 10gen, Ram 8gb, 512 Gb Ssd, QuadcorePortatil Asus X512da-ej382- Ryzen7 3700u-1tb-vega 10-endlessPortatil Lenovo Notebook Decima Gen Core I5 Ram 4gb Hdd 1tbMatebook D15'' R5+8g+256g   +morral+ Mouse BluetooothLenovo Laptop Trinkpad E490 Core I7 16g Ram Disco Solido 1 TPortatil Asus M409da-bv387-ryzen5 3500-1tb-4ram-endlessComputador Portatil Laptop Dell InspironNotebook Hp 245g7 R3-2200u 14 8gbAsus Laptop Transformer Book T100ta Pc 10.1  Quad Core 32 GbMatebook D 14'' R5+8g+512g +morral+ Mouse BluetoothMsi Gf75 Thin 120hz Laptop . Intel Core I7-9750h Portatil Lenovo E490 Intel Ci5 Ssd M.2 256gb Ram 8gb W10 Portatil Asus X512da-ej382- Ryzen7 3700u-1tb-vega 10-endlessPortatil Asus X409m Celeron N4000-4gb-1tb 14¨+mouse OriginalMsi Gp63 Leopard 15.6 Gaming LaptopLaptop Acer Aspire V5-431( Repuestos)Computador Portatil Laptop Dell InspironSoporte Tripode Laptop  Computador Mesa Lenovo DellPortátil Hp Laptop 14dk-1003dx Laptop Lenovo G465 (repuestos)Portatil Hp 14-cf3036la I3-1005g1| 4gb | 1tb | 14 Hd | No ToPortátil Hp 14, Core I5 10gen, Ram 4gb, 256 Gb Ssd, QuadcorePortátil Hp 14 Amd Ryzen3, 512gb Ssd, 12gb Ram, Video 2gb Portátil Hp 14, Core I5 10gen, Ram 12gb, 512gb Ssd, QuadcorePortátil Hp 14 Amd Ryzen3, 256gb Ssd, 12gb Ram, Video 2gb   Laptop Intel Core I3 2gb Ram NegociableComputador Portatil Laptop Dell InspironLaptop Dell 2016 E7470 I7 16gb Ssd 256gb 14 1080p Hdmi Win10Laptop Asus Fx504ge-e4644t Gaming I7 8va Gen 8 Gb 1tbComputador Huawei Matebook 13 2020  + Audífonos + RouterComputador Portátil Laptop Pc Gamer Gaming Lenovo Y40Portatil Notebook Convertible  Hp Pavilion 11p - RepuestosComputador Huawei Matebook X Pro De 256 GbLaptop Acer Switch One 10 Premium 2-in-1 Laptop Tablet, 10.1Portatil Hp 240 G7 Core I5-8265 4gb Dd 1tb +  Windws 10 Pro\n"
          ],
          "name": "stdout"
        }
      ]
    },
    {
      "cell_type": "code",
      "metadata": {
        "id": "DYCUi82HIzbd",
        "colab_type": "code",
        "colab": {
          "base_uri": "https://localhost:8080/",
          "height": 34
        },
        "outputId": "ac3cea89-89dd-4fac-c53b-dd8099ee59e1"
      },
      "source": [
        "#Utilizando funciones filter filtre los títulos que sean menores a 25 caracteres (incluyendo espacios)\n",
        "\n",
        "titulosLaptop = list (nombreLaptop)\n",
        "nombresLaptopCortos = lambda elemento : len (elemento) < 25\n",
        "listaNombresFiltrados = list (filter (nombresLaptopCortos, titulosLaptop))\n",
        "print (listaNombresFiltrados)"
      ],
      "execution_count": 7,
      "outputs": [
        {
          "output_type": "stream",
          "text": [
            "[]\n"
          ],
          "name": "stdout"
        }
      ]
    },
    {
      "cell_type": "code",
      "metadata": {
        "id": "RSyCnxb9KGdl",
        "colab_type": "code",
        "colab": {
          "base_uri": "https://localhost:8080/",
          "height": 34
        },
        "outputId": "4795513d-7c5a-4f9b-be60-8d10706927cf"
      },
      "source": [
        "#Utilizando programación funcional obtenga el largo promedio de los títulos obtenidos\n",
        "\n",
        "from functools import reduce\n",
        "\n",
        "lista = titulosLaptop\n",
        "size = lambda elemento: len(elemento)\n",
        "listaSize = list (map(size,lista))\n",
        "#print (listaSize)\n",
        "sumador = lambda elemento = 0, acumulador = 0: acumulador + elemento\n",
        "promedio = reduce (sumador,listaSize) / len(titulosLaptop)\n",
        "print (promedio)\n"
      ],
      "execution_count": 8,
      "outputs": [
        {
          "output_type": "stream",
          "text": [
            "52.98\n"
          ],
          "name": "stdout"
        }
      ]
    },
    {
      "cell_type": "code",
      "metadata": {
        "id": "whqJBqUhrKSm",
        "colab_type": "code",
        "colab": {
          "base_uri": "https://localhost:8080/",
          "height": 979
        },
        "outputId": "e3b1c00e-06eb-407e-b80e-00781ef9da0b"
      },
      "source": [
        "laptopDataFrame"
      ],
      "execution_count": 9,
      "outputs": [
        {
          "output_type": "execute_result",
          "data": {
            "text/html": [
              "<div>\n",
              "<style scoped>\n",
              "    .dataframe tbody tr th:only-of-type {\n",
              "        vertical-align: middle;\n",
              "    }\n",
              "\n",
              "    .dataframe tbody tr th {\n",
              "        vertical-align: top;\n",
              "    }\n",
              "\n",
              "    .dataframe thead th {\n",
              "        text-align: right;\n",
              "    }\n",
              "</style>\n",
              "<table border=\"1\" class=\"dataframe\">\n",
              "  <thead>\n",
              "    <tr style=\"text-align: right;\">\n",
              "      <th></th>\n",
              "      <th>Titulos</th>\n",
              "      <th>Precios</th>\n",
              "    </tr>\n",
              "  </thead>\n",
              "  <tbody>\n",
              "    <tr>\n",
              "      <th>0</th>\n",
              "      <td>Portatil Asus M409da-bv496 Ryzen 5 4gb Ssd 256...</td>\n",
              "      <td>1.778.000</td>\n",
              "    </tr>\n",
              "    <tr>\n",
              "      <th>1</th>\n",
              "      <td>Portatil Hp 15-db0032la Amd A6 9225 256g Ssd 8...</td>\n",
              "      <td>49.389</td>\n",
              "    </tr>\n",
              "    <tr>\n",
              "      <th>2</th>\n",
              "      <td>Portatil Asus X509ma-br289 Celeron N4020 4gb 1...</td>\n",
              "      <td>1.540.000</td>\n",
              "    </tr>\n",
              "    <tr>\n",
              "      <th>3</th>\n",
              "      <td>Portatil Asus X509jb Core I5 1035g 4gb Ssd 512...</td>\n",
              "      <td>128.333</td>\n",
              "    </tr>\n",
              "    <tr>\n",
              "      <th>4</th>\n",
              "      <td>Portatil Asus M409da-bv387-ryzen5 3500-1tb-4ra...</td>\n",
              "      <td>1.349.800</td>\n",
              "    </tr>\n",
              "    <tr>\n",
              "      <th>5</th>\n",
              "      <td>Portátil Hp 14, Core I5 10gen, Ram 12gb, 256 G...</td>\n",
              "      <td>37.494</td>\n",
              "    </tr>\n",
              "    <tr>\n",
              "      <th>6</th>\n",
              "      <td>Portátil Hp 14 Amd Ryzen3, 256gb Ssd, Ram4gb, ...</td>\n",
              "      <td>2.499.800</td>\n",
              "    </tr>\n",
              "    <tr>\n",
              "      <th>7</th>\n",
              "      <td>Portatil Hp Notebook 15-dy1003la I5 4gb</td>\n",
              "      <td>69.439</td>\n",
              "    </tr>\n",
              "    <tr>\n",
              "      <th>8</th>\n",
              "      <td>Portátil Hp 14, Core I5 10gen, Ram 16gb, 512gb...</td>\n",
              "      <td>1.779.000</td>\n",
              "    </tr>\n",
              "    <tr>\n",
              "      <th>9</th>\n",
              "      <td>Portatil Asus X409ma-bv066 Celeron N4000 4gb 1...</td>\n",
              "      <td>49.417</td>\n",
              "    </tr>\n",
              "    <tr>\n",
              "      <th>10</th>\n",
              "      <td>Portátil Hp 245 G7 Amd E2 9000e 4gb 1tb 14 Pul...</td>\n",
              "      <td>2.899.000</td>\n",
              "    </tr>\n",
              "    <tr>\n",
              "      <th>11</th>\n",
              "      <td>Dell G5 15 15.6 Intel Core I7 16 Ram Nvidia Ge...</td>\n",
              "      <td>2.589.000</td>\n",
              "    </tr>\n",
              "    <tr>\n",
              "      <th>12</th>\n",
              "      <td>Huawei Matebook D 15 + Office + Antivirus + Mo...</td>\n",
              "      <td>71.917</td>\n",
              "    </tr>\n",
              "    <tr>\n",
              "      <th>13</th>\n",
              "      <td>Acer Predator Helios 300 Gaming Laptop Pc, 17....</td>\n",
              "      <td>2.300.000</td>\n",
              "    </tr>\n",
              "    <tr>\n",
              "      <th>14</th>\n",
              "      <td>Portátil Asus X509jb-br086-core I7 1065g-1tb-1...</td>\n",
              "      <td>1.780.000</td>\n",
              "    </tr>\n",
              "    <tr>\n",
              "      <th>15</th>\n",
              "      <td>Portátil Hp 14, Core I5 10gen, Ram 8gb, 512 Gb...</td>\n",
              "      <td>49.444</td>\n",
              "    </tr>\n",
              "    <tr>\n",
              "      <th>16</th>\n",
              "      <td>Portatil Asus X512da-ej382- Ryzen7 3700u-1tb-v...</td>\n",
              "      <td>3.209.000</td>\n",
              "    </tr>\n",
              "    <tr>\n",
              "      <th>17</th>\n",
              "      <td>Portatil Lenovo Notebook Decima Gen Core I5 Ra...</td>\n",
              "      <td>89.139</td>\n",
              "    </tr>\n",
              "    <tr>\n",
              "      <th>18</th>\n",
              "      <td>Matebook D15'' R5+8g+256g   +morral+ Mouse Blu...</td>\n",
              "      <td>3.600.000</td>\n",
              "    </tr>\n",
              "    <tr>\n",
              "      <th>19</th>\n",
              "      <td>Lenovo Laptop Trinkpad E490 Core I7 16g Ram Di...</td>\n",
              "      <td>3.199.000</td>\n",
              "    </tr>\n",
              "    <tr>\n",
              "      <th>20</th>\n",
              "      <td>Portatil Asus M409da-bv387-ryzen5 3500-1tb-4ra...</td>\n",
              "      <td>88.861</td>\n",
              "    </tr>\n",
              "    <tr>\n",
              "      <th>21</th>\n",
              "      <td>Computador Portatil Laptop Dell Inspiron</td>\n",
              "      <td>1.389.900</td>\n",
              "    </tr>\n",
              "    <tr>\n",
              "      <th>22</th>\n",
              "      <td>Notebook Hp 245g7 R3-2200u 14 8gb</td>\n",
              "      <td>38.608</td>\n",
              "    </tr>\n",
              "    <tr>\n",
              "      <th>23</th>\n",
              "      <td>Asus Laptop Transformer Book T100ta Pc 10.1  Q...</td>\n",
              "      <td>1.229.000</td>\n",
              "    </tr>\n",
              "    <tr>\n",
              "      <th>24</th>\n",
              "      <td>Matebook D 14'' R5+8g+512g +morral+ Mouse Blue...</td>\n",
              "      <td>34.139</td>\n",
              "    </tr>\n",
              "    <tr>\n",
              "      <th>25</th>\n",
              "      <td>Msi Gf75 Thin 120hz Laptop . Intel Core I7-9750h</td>\n",
              "      <td>5.799.000</td>\n",
              "    </tr>\n",
              "    <tr>\n",
              "      <th>26</th>\n",
              "      <td>Portatil Lenovo E490 Intel Ci5 Ssd M.2 256gb R...</td>\n",
              "      <td>161.083</td>\n",
              "    </tr>\n",
              "    <tr>\n",
              "      <th>27</th>\n",
              "      <td>Portatil Asus X512da-ej382- Ryzen7 3700u-1tb-v...</td>\n",
              "      <td>2.549.900</td>\n",
              "    </tr>\n",
              "    <tr>\n",
              "      <th>28</th>\n",
              "      <td>Portatil Asus X409m Celeron N4000-4gb-1tb 14¨+...</td>\n",
              "      <td>70.831</td>\n",
              "    </tr>\n",
              "    <tr>\n",
              "      <th>29</th>\n",
              "      <td>Msi Gp63 Leopard 15.6 Gaming Laptop</td>\n",
              "      <td>6.890.000</td>\n",
              "    </tr>\n",
              "  </tbody>\n",
              "</table>\n",
              "</div>"
            ],
            "text/plain": [
              "                                              Titulos    Precios\n",
              "0   Portatil Asus M409da-bv496 Ryzen 5 4gb Ssd 256...  1.778.000\n",
              "1   Portatil Hp 15-db0032la Amd A6 9225 256g Ssd 8...     49.389\n",
              "2   Portatil Asus X509ma-br289 Celeron N4020 4gb 1...  1.540.000\n",
              "3   Portatil Asus X509jb Core I5 1035g 4gb Ssd 512...    128.333\n",
              "4   Portatil Asus M409da-bv387-ryzen5 3500-1tb-4ra...  1.349.800\n",
              "5   Portátil Hp 14, Core I5 10gen, Ram 12gb, 256 G...     37.494\n",
              "6   Portátil Hp 14 Amd Ryzen3, 256gb Ssd, Ram4gb, ...  2.499.800\n",
              "7             Portatil Hp Notebook 15-dy1003la I5 4gb     69.439\n",
              "8   Portátil Hp 14, Core I5 10gen, Ram 16gb, 512gb...  1.779.000\n",
              "9   Portatil Asus X409ma-bv066 Celeron N4000 4gb 1...     49.417\n",
              "10  Portátil Hp 245 G7 Amd E2 9000e 4gb 1tb 14 Pul...  2.899.000\n",
              "11  Dell G5 15 15.6 Intel Core I7 16 Ram Nvidia Ge...  2.589.000\n",
              "12  Huawei Matebook D 15 + Office + Antivirus + Mo...     71.917\n",
              "13  Acer Predator Helios 300 Gaming Laptop Pc, 17....  2.300.000\n",
              "14  Portátil Asus X509jb-br086-core I7 1065g-1tb-1...  1.780.000\n",
              "15  Portátil Hp 14, Core I5 10gen, Ram 8gb, 512 Gb...     49.444\n",
              "16  Portatil Asus X512da-ej382- Ryzen7 3700u-1tb-v...  3.209.000\n",
              "17  Portatil Lenovo Notebook Decima Gen Core I5 Ra...     89.139\n",
              "18  Matebook D15'' R5+8g+256g   +morral+ Mouse Blu...  3.600.000\n",
              "19  Lenovo Laptop Trinkpad E490 Core I7 16g Ram Di...  3.199.000\n",
              "20  Portatil Asus M409da-bv387-ryzen5 3500-1tb-4ra...     88.861\n",
              "21           Computador Portatil Laptop Dell Inspiron  1.389.900\n",
              "22                  Notebook Hp 245g7 R3-2200u 14 8gb     38.608\n",
              "23  Asus Laptop Transformer Book T100ta Pc 10.1  Q...  1.229.000\n",
              "24  Matebook D 14'' R5+8g+512g +morral+ Mouse Blue...     34.139\n",
              "25  Msi Gf75 Thin 120hz Laptop . Intel Core I7-9750h   5.799.000\n",
              "26  Portatil Lenovo E490 Intel Ci5 Ssd M.2 256gb R...    161.083\n",
              "27  Portatil Asus X512da-ej382- Ryzen7 3700u-1tb-v...  2.549.900\n",
              "28  Portatil Asus X409m Celeron N4000-4gb-1tb 14¨+...     70.831\n",
              "29                Msi Gp63 Leopard 15.6 Gaming Laptop  6.890.000"
            ]
          },
          "metadata": {
            "tags": []
          },
          "execution_count": 9
        }
      ]
    },
    {
      "cell_type": "code",
      "metadata": {
        "id": "2hu80IzRrmLz",
        "colab_type": "code",
        "colab": {
          "base_uri": "https://localhost:8080/",
          "height": 979
        },
        "outputId": "92e684a7-6894-4d6e-f1f1-b4a364a2040a"
      },
      "source": [
        "laptopDataFrameMOD"
      ],
      "execution_count": 10,
      "outputs": [
        {
          "output_type": "execute_result",
          "data": {
            "text/html": [
              "<div>\n",
              "<style scoped>\n",
              "    .dataframe tbody tr th:only-of-type {\n",
              "        vertical-align: middle;\n",
              "    }\n",
              "\n",
              "    .dataframe tbody tr th {\n",
              "        vertical-align: top;\n",
              "    }\n",
              "\n",
              "    .dataframe thead th {\n",
              "        text-align: right;\n",
              "    }\n",
              "</style>\n",
              "<table border=\"1\" class=\"dataframe\">\n",
              "  <thead>\n",
              "    <tr style=\"text-align: right;\">\n",
              "      <th></th>\n",
              "      <th>Titulos</th>\n",
              "      <th>Precios</th>\n",
              "    </tr>\n",
              "  </thead>\n",
              "  <tbody>\n",
              "    <tr>\n",
              "      <th>0</th>\n",
              "      <td>Laptop : Portatil Asus M409da-bv496 Ryzen 5 4g...</td>\n",
              "      <td>1.778.000</td>\n",
              "    </tr>\n",
              "    <tr>\n",
              "      <th>1</th>\n",
              "      <td>Laptop : Portatil Hp 15-db0032la Amd A6 9225 2...</td>\n",
              "      <td>49.389</td>\n",
              "    </tr>\n",
              "    <tr>\n",
              "      <th>2</th>\n",
              "      <td>Laptop : Portatil Asus X509ma-br289 Celeron N4...</td>\n",
              "      <td>1.540.000</td>\n",
              "    </tr>\n",
              "    <tr>\n",
              "      <th>3</th>\n",
              "      <td>Laptop : Portatil Asus X509jb Core I5 1035g 4g...</td>\n",
              "      <td>128.333</td>\n",
              "    </tr>\n",
              "    <tr>\n",
              "      <th>4</th>\n",
              "      <td>Laptop : Portatil Asus M409da-bv387-ryzen5 350...</td>\n",
              "      <td>1.349.800</td>\n",
              "    </tr>\n",
              "    <tr>\n",
              "      <th>5</th>\n",
              "      <td>Laptop : Portátil Hp 14, Core I5 10gen, Ram 12...</td>\n",
              "      <td>37.494</td>\n",
              "    </tr>\n",
              "    <tr>\n",
              "      <th>6</th>\n",
              "      <td>Laptop : Portátil Hp 14 Amd Ryzen3, 256gb Ssd,...</td>\n",
              "      <td>2.499.800</td>\n",
              "    </tr>\n",
              "    <tr>\n",
              "      <th>7</th>\n",
              "      <td>Laptop : Portatil Hp Notebook 15-dy1003la I5 4gb</td>\n",
              "      <td>69.439</td>\n",
              "    </tr>\n",
              "    <tr>\n",
              "      <th>8</th>\n",
              "      <td>Laptop : Portátil Hp 14, Core I5 10gen, Ram 16...</td>\n",
              "      <td>1.779.000</td>\n",
              "    </tr>\n",
              "    <tr>\n",
              "      <th>9</th>\n",
              "      <td>Laptop : Portatil Asus X409ma-bv066 Celeron N4...</td>\n",
              "      <td>49.417</td>\n",
              "    </tr>\n",
              "    <tr>\n",
              "      <th>10</th>\n",
              "      <td>Laptop : Portátil Hp 245 G7 Amd E2 9000e 4gb 1...</td>\n",
              "      <td>2.899.000</td>\n",
              "    </tr>\n",
              "    <tr>\n",
              "      <th>11</th>\n",
              "      <td>Laptop : Dell G5 15 15.6 Intel Core I7 16 Ram ...</td>\n",
              "      <td>2.589.000</td>\n",
              "    </tr>\n",
              "    <tr>\n",
              "      <th>12</th>\n",
              "      <td>Laptop : Huawei Matebook D 15 + Office + Antiv...</td>\n",
              "      <td>71.917</td>\n",
              "    </tr>\n",
              "    <tr>\n",
              "      <th>13</th>\n",
              "      <td>Laptop : Acer Predator Helios 300 Gaming Lapto...</td>\n",
              "      <td>2.300.000</td>\n",
              "    </tr>\n",
              "    <tr>\n",
              "      <th>14</th>\n",
              "      <td>Laptop : Portátil Asus X509jb-br086-core I7 10...</td>\n",
              "      <td>1.780.000</td>\n",
              "    </tr>\n",
              "    <tr>\n",
              "      <th>15</th>\n",
              "      <td>Laptop : Portátil Hp 14, Core I5 10gen, Ram 8g...</td>\n",
              "      <td>49.444</td>\n",
              "    </tr>\n",
              "    <tr>\n",
              "      <th>16</th>\n",
              "      <td>Laptop : Portatil Asus X512da-ej382- Ryzen7 37...</td>\n",
              "      <td>3.209.000</td>\n",
              "    </tr>\n",
              "    <tr>\n",
              "      <th>17</th>\n",
              "      <td>Laptop : Portatil Lenovo Notebook Decima Gen C...</td>\n",
              "      <td>89.139</td>\n",
              "    </tr>\n",
              "    <tr>\n",
              "      <th>18</th>\n",
              "      <td>Laptop : Matebook D15'' R5+8g+256g   +morral+ ...</td>\n",
              "      <td>3.600.000</td>\n",
              "    </tr>\n",
              "    <tr>\n",
              "      <th>19</th>\n",
              "      <td>Laptop : Lenovo Laptop Trinkpad E490 Core I7 1...</td>\n",
              "      <td>3.199.000</td>\n",
              "    </tr>\n",
              "    <tr>\n",
              "      <th>20</th>\n",
              "      <td>Laptop : Portatil Asus M409da-bv387-ryzen5 350...</td>\n",
              "      <td>88.861</td>\n",
              "    </tr>\n",
              "    <tr>\n",
              "      <th>21</th>\n",
              "      <td>Laptop : Computador Portatil Laptop Dell Inspiron</td>\n",
              "      <td>1.389.900</td>\n",
              "    </tr>\n",
              "    <tr>\n",
              "      <th>22</th>\n",
              "      <td>Laptop : Notebook Hp 245g7 R3-2200u 14 8gb</td>\n",
              "      <td>38.608</td>\n",
              "    </tr>\n",
              "    <tr>\n",
              "      <th>23</th>\n",
              "      <td>Laptop : Asus Laptop Transformer Book T100ta P...</td>\n",
              "      <td>1.229.000</td>\n",
              "    </tr>\n",
              "    <tr>\n",
              "      <th>24</th>\n",
              "      <td>Laptop : Matebook D 14'' R5+8g+512g +morral+ M...</td>\n",
              "      <td>34.139</td>\n",
              "    </tr>\n",
              "    <tr>\n",
              "      <th>25</th>\n",
              "      <td>Laptop : Msi Gf75 Thin 120hz Laptop . Intel Co...</td>\n",
              "      <td>5.799.000</td>\n",
              "    </tr>\n",
              "    <tr>\n",
              "      <th>26</th>\n",
              "      <td>Laptop : Portatil Lenovo E490 Intel Ci5 Ssd M....</td>\n",
              "      <td>161.083</td>\n",
              "    </tr>\n",
              "    <tr>\n",
              "      <th>27</th>\n",
              "      <td>Laptop : Portatil Asus X512da-ej382- Ryzen7 37...</td>\n",
              "      <td>2.549.900</td>\n",
              "    </tr>\n",
              "    <tr>\n",
              "      <th>28</th>\n",
              "      <td>Laptop : Portatil Asus X409m Celeron N4000-4gb...</td>\n",
              "      <td>70.831</td>\n",
              "    </tr>\n",
              "    <tr>\n",
              "      <th>29</th>\n",
              "      <td>Laptop : Msi Gp63 Leopard 15.6 Gaming Laptop</td>\n",
              "      <td>6.890.000</td>\n",
              "    </tr>\n",
              "  </tbody>\n",
              "</table>\n",
              "</div>"
            ],
            "text/plain": [
              "                                              Titulos    Precios\n",
              "0   Laptop : Portatil Asus M409da-bv496 Ryzen 5 4g...  1.778.000\n",
              "1   Laptop : Portatil Hp 15-db0032la Amd A6 9225 2...     49.389\n",
              "2   Laptop : Portatil Asus X509ma-br289 Celeron N4...  1.540.000\n",
              "3   Laptop : Portatil Asus X509jb Core I5 1035g 4g...    128.333\n",
              "4   Laptop : Portatil Asus M409da-bv387-ryzen5 350...  1.349.800\n",
              "5   Laptop : Portátil Hp 14, Core I5 10gen, Ram 12...     37.494\n",
              "6   Laptop : Portátil Hp 14 Amd Ryzen3, 256gb Ssd,...  2.499.800\n",
              "7    Laptop : Portatil Hp Notebook 15-dy1003la I5 4gb     69.439\n",
              "8   Laptop : Portátil Hp 14, Core I5 10gen, Ram 16...  1.779.000\n",
              "9   Laptop : Portatil Asus X409ma-bv066 Celeron N4...     49.417\n",
              "10  Laptop : Portátil Hp 245 G7 Amd E2 9000e 4gb 1...  2.899.000\n",
              "11  Laptop : Dell G5 15 15.6 Intel Core I7 16 Ram ...  2.589.000\n",
              "12  Laptop : Huawei Matebook D 15 + Office + Antiv...     71.917\n",
              "13  Laptop : Acer Predator Helios 300 Gaming Lapto...  2.300.000\n",
              "14  Laptop : Portátil Asus X509jb-br086-core I7 10...  1.780.000\n",
              "15  Laptop : Portátil Hp 14, Core I5 10gen, Ram 8g...     49.444\n",
              "16  Laptop : Portatil Asus X512da-ej382- Ryzen7 37...  3.209.000\n",
              "17  Laptop : Portatil Lenovo Notebook Decima Gen C...     89.139\n",
              "18  Laptop : Matebook D15'' R5+8g+256g   +morral+ ...  3.600.000\n",
              "19  Laptop : Lenovo Laptop Trinkpad E490 Core I7 1...  3.199.000\n",
              "20  Laptop : Portatil Asus M409da-bv387-ryzen5 350...     88.861\n",
              "21  Laptop : Computador Portatil Laptop Dell Inspiron  1.389.900\n",
              "22         Laptop : Notebook Hp 245g7 R3-2200u 14 8gb     38.608\n",
              "23  Laptop : Asus Laptop Transformer Book T100ta P...  1.229.000\n",
              "24  Laptop : Matebook D 14'' R5+8g+512g +morral+ M...     34.139\n",
              "25  Laptop : Msi Gf75 Thin 120hz Laptop . Intel Co...  5.799.000\n",
              "26  Laptop : Portatil Lenovo E490 Intel Ci5 Ssd M....    161.083\n",
              "27  Laptop : Portatil Asus X512da-ej382- Ryzen7 37...  2.549.900\n",
              "28  Laptop : Portatil Asus X409m Celeron N4000-4gb...     70.831\n",
              "29       Laptop : Msi Gp63 Leopard 15.6 Gaming Laptop  6.890.000"
            ]
          },
          "metadata": {
            "tags": []
          },
          "execution_count": 10
        }
      ]
    },
    {
      "cell_type": "code",
      "metadata": {
        "id": "gyTfXOOIryLu",
        "colab_type": "code",
        "colab": {
          "base_uri": "https://localhost:8080/",
          "height": 306
        },
        "outputId": "7e098f1e-c415-499c-9099-227fc5a8f4c8"
      },
      "source": [
        "hpSerie"
      ],
      "execution_count": 11,
      "outputs": [
        {
          "output_type": "execute_result",
          "data": {
            "text/plain": [
              "0     Laptop : Portatil Hp 15-db0032la Amd A6 9225 2...\n",
              "1     Laptop : Portátil Hp 14, Core I5 10gen, Ram 12...\n",
              "2     Laptop : Portátil Hp 14 Amd Ryzen3, 256gb Ssd,...\n",
              "3      Laptop : Portatil Hp Notebook 15-dy1003la I5 4gb\n",
              "4     Laptop : Portátil Hp 14, Core I5 10gen, Ram 16...\n",
              "5     Laptop : Portátil Hp 245 G7 Amd E2 9000e 4gb 1...\n",
              "6     Laptop : Portátil Hp 14, Core I5 10gen, Ram 8g...\n",
              "7            Laptop : Notebook Hp 245g7 R3-2200u 14 8gb\n",
              "8              Laptop : Portátil Hp Laptop 14dk-1003dx \n",
              "9     Laptop : Portatil Hp 14-cf3036la I3-1005g1| 4g...\n",
              "10    Laptop : Portátil Hp 14, Core I5 10gen, Ram 4g...\n",
              "11    Laptop : Portátil Hp 14 Amd Ryzen3, 512gb Ssd,...\n",
              "12    Laptop : Portátil Hp 14, Core I5 10gen, Ram 12...\n",
              "13    Laptop : Portátil Hp 14 Amd Ryzen3, 256gb Ssd,...\n",
              "14    Laptop : Portatil Notebook Convertible  Hp Pav...\n",
              "15    Laptop : Portatil Hp 240 G7 Core I5-8265 4gb D...\n",
              "dtype: object"
            ]
          },
          "metadata": {
            "tags": []
          },
          "execution_count": 11
        }
      ]
    },
    {
      "cell_type": "code",
      "metadata": {
        "id": "F5CZq2BFrzoT",
        "colab_type": "code",
        "colab": {
          "base_uri": "https://localhost:8080/",
          "height": 238
        },
        "outputId": "d165da8c-bf64-475a-ca86-1b99cd82d9d2"
      },
      "source": [
        "toyotaSerie"
      ],
      "execution_count": 12,
      "outputs": [
        {
          "output_type": "execute_result",
          "data": {
            "text/plain": [
              "0     Laptop : Portatil Asus M409da-bv496 Ryzen 5 4g...\n",
              "1     Laptop : Portatil Asus X509ma-br289 Celeron N4...\n",
              "2     Laptop : Portatil Asus X509jb Core I5 1035g 4g...\n",
              "3     Laptop : Portatil Asus M409da-bv387-ryzen5 350...\n",
              "4     Laptop : Portatil Asus X409ma-bv066 Celeron N4...\n",
              "5     Laptop : Portátil Asus X509jb-br086-core I7 10...\n",
              "6     Laptop : Portatil Asus X512da-ej382- Ryzen7 37...\n",
              "7     Laptop : Portatil Asus M409da-bv387-ryzen5 350...\n",
              "8     Laptop : Asus Laptop Transformer Book T100ta P...\n",
              "9     Laptop : Portatil Asus X512da-ej382- Ryzen7 37...\n",
              "10    Laptop : Portatil Asus X409m Celeron N4000-4gb...\n",
              "11    Laptop : Laptop Asus Fx504ge-e4644t Gaming I7 ...\n",
              "dtype: object"
            ]
          },
          "metadata": {
            "tags": []
          },
          "execution_count": 12
        }
      ]
    }
  ]
}