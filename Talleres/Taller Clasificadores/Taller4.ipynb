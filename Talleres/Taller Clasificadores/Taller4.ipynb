{
  "nbformat": 4,
  "nbformat_minor": 0,
  "metadata": {
    "colab": {
      "name": "Taller4.ipynb",
      "provenance": []
    },
    "kernelspec": {
      "name": "python3",
      "display_name": "Python 3"
    }
  },
  "cells": [
    {
      "cell_type": "markdown",
      "metadata": {
        "id": "cwMqR8zXTOZb"
      },
      "source": [
        "#Primera Parte\n"
      ]
    },
    {
      "cell_type": "code",
      "metadata": {
        "id": "LFyCcb586C9-"
      },
      "source": [
        "import sklearn \n",
        "from sklearn.datasets import load_iris\n",
        "from sklearn.model_selection import train_test_split\n",
        "iris=load_iris()"
      ],
      "execution_count": 3,
      "outputs": []
    },
    {
      "cell_type": "code",
      "metadata": {
        "id": "y7tYilpk_9qP",
        "outputId": "13e37bf8-038a-43ec-91ae-15e19a9c2be4",
        "colab": {
          "base_uri": "https://localhost:8080/",
          "height": 102
        }
      },
      "source": [
        "datosEntrenamiento, datosPrueba,respuestasEntrenamiento,respuestaPrueba=train_test_split(iris['data'],iris['target'])\n",
        "print(datosEntrenamiento.shape)\n",
        "print(respuestasEntrenamiento)"
      ],
      "execution_count": 4,
      "outputs": [
        {
          "output_type": "stream",
          "text": [
            "(112, 4)\n",
            "[2 0 1 0 0 1 1 0 0 2 1 1 0 0 2 1 2 2 0 0 1 0 0 1 1 1 0 0 2 0 1 2 1 0 0 2 0\n",
            " 2 2 1 0 1 1 0 0 1 2 0 2 0 2 1 1 0 2 0 2 0 1 0 2 0 2 0 1 1 2 2 2 1 0 1 0 1\n",
            " 1 2 1 0 2 1 1 2 2 1 1 2 1 0 1 1 0 1 2 2 0 2 2 2 1 0 0 1 1 2 2 2 2 2 2 0 1\n",
            " 2]\n"
          ],
          "name": "stdout"
        }
      ]
    },
    {
      "cell_type": "code",
      "metadata": {
        "id": "axesUapy_xDB",
        "outputId": "a530df54-92ee-4848-e6a7-51461711ab3e",
        "colab": {
          "base_uri": "https://localhost:8080/",
          "height": 68
        }
      },
      "source": [
        "from sklearn.neighbors import KNeighborsClassifier\n",
        "knn1=KNeighborsClassifier(n_neighbors=3)\n",
        "knn1.fit(datosEntrenamiento,respuestasEntrenamiento)\n",
        "\n",
        "print(knn1.score(datosPrueba,respuestaPrueba)*100)\n",
        "aux=knn1.predict([[6.4, 2.8, 5.6, 2.2]])\n",
        "print(aux)\n",
        "print(iris['target_names'][aux])\n"
      ],
      "execution_count": 14,
      "outputs": [
        {
          "output_type": "stream",
          "text": [
            "94.73684210526315\n",
            "[2]\n",
            "['virginica']\n"
          ],
          "name": "stdout"
        }
      ]
    },
    {
      "cell_type": "code",
      "metadata": {
        "id": "DyxF5eyrCJaK",
        "outputId": "8ce02273-b65c-481d-c83f-8a6a3f1bb0b2",
        "colab": {
          "base_uri": "https://localhost:8080/",
          "height": 68
        }
      },
      "source": [
        "\n",
        "knn2=KNeighborsClassifier(n_neighbors=10)\n",
        "knn2.fit(datosEntrenamiento,respuestasEntrenamiento)\n",
        "\n",
        "print(knn2.score(datosPrueba,respuestaPrueba)*100)\n",
        "aux=knn2.predict([[6.4, 2.8, 5.6, 2.2]])\n",
        "print(aux)\n",
        "print(iris['target_names'][aux])"
      ],
      "execution_count": 15,
      "outputs": [
        {
          "output_type": "stream",
          "text": [
            "89.47368421052632\n",
            "[2]\n",
            "['virginica']\n"
          ],
          "name": "stdout"
        }
      ]
    },
    {
      "cell_type": "code",
      "metadata": {
        "id": "XlVrDRQgCL5_",
        "outputId": "b33427a2-7638-420b-8505-64ef28c45bcc",
        "colab": {
          "base_uri": "https://localhost:8080/",
          "height": 68
        }
      },
      "source": [
        "\n",
        "knn3=KNeighborsClassifier(n_neighbors=30)\n",
        "knn3.fit(datosEntrenamiento,respuestasEntrenamiento)\n",
        "\n",
        "print(knn3.score(datosPrueba,respuestaPrueba)*100)\n",
        "aux=knn3.predict([[6.4, 2.8, 5.6, 2.2]])\n",
        "print(aux)\n",
        "print(iris['target_names'][aux])"
      ],
      "execution_count": 17,
      "outputs": [
        {
          "output_type": "stream",
          "text": [
            "92.10526315789474\n",
            "[2]\n",
            "['virginica']\n"
          ],
          "name": "stdout"
        }
      ]
    },
    {
      "cell_type": "markdown",
      "metadata": {
        "id": "II1-GijLNwMQ"
      },
      "source": [
        "#Segunda parte\n"
      ]
    },
    {
      "cell_type": "code",
      "metadata": {
        "id": "bSJk8tCuNydX",
        "outputId": "d8fac929-b8a3-4f89-e670-dd0e0824ab43",
        "colab": {
          "base_uri": "https://localhost:8080/",
          "height": 85
        }
      },
      "source": [
        "from sklearn.datasets import load_iris \n",
        "from sklearn.model_selection import train_test_split \n",
        "from sklearn.tree import  DecisionTreeClassifier \n",
        "\n",
        "iris = load_iris()\n",
        "\n",
        "resultado= train_test_split(iris['data'], iris['target'])\n",
        "datosEntrenamiento = resultado[0]\n",
        "datosPrueba = resultado[1]\n",
        "respuestasEntrenamiento =resultado[2]\n",
        "respuestasPrueba = resultado[3]\n",
        "\n",
        "lista_arboles = []\n",
        "scores_arboles = []\n",
        "\n",
        "lista_arboles.append(DecisionTreeClassifier(max_depth=3))\n",
        "lista_arboles.append(DecisionTreeClassifier(max_depth=5))\n",
        "lista_arboles.append(DecisionTreeClassifier(max_depth=30))\n",
        "\n",
        "for elemento in lista_arboles:\n",
        "  elemento.fit(datosEntrenamiento,respuestasEntrenamiento)\n",
        "  scores_arboles.append(elemento.score(datosPrueba,respuestasPrueba)*100)\n",
        "  print(elemento.score(datosPrueba,respuestasPrueba)*100)\n",
        "print(scores_arboles)\n",
        "\n"
      ],
      "execution_count": 20,
      "outputs": [
        {
          "output_type": "stream",
          "text": [
            "100.0\n",
            "97.36842105263158\n",
            "97.36842105263158\n",
            "[100.0, 97.36842105263158, 97.36842105263158]\n"
          ],
          "name": "stdout"
        }
      ]
    },
    {
      "cell_type": "code",
      "metadata": {
        "id": "KLhNq3VUOHFz",
        "outputId": "3f10377e-e8f3-423b-96fc-cd62841db216",
        "colab": {
          "base_uri": "https://localhost:8080/",
          "height": 312
        }
      },
      "source": [
        "import matplotlib.pyplot as plt\n",
        "arboles = [\"Arbol 3\",\"Arbol 5\",\"Arbol 25\"]\n",
        "plt.bar(arboles,scores_arboles)\n",
        "plt.ylabel(\"Porcentaje\")\n",
        "plt.xlabel(\"Arboles\")\n",
        "plt.title(\"Comparacion arboles\")\n",
        "plt.show()\n",
        "\n",
        "print(\"puntaje maximo\",max(scores_arboles))"
      ],
      "execution_count": 21,
      "outputs": [
        {
          "output_type": "display_data",
          "data": {
            "image/png": "[encoded data removed]",
            "text/plain": [
              "<Figure size 432x288 with 1 Axes>"
            ]
          },
          "metadata": {
            "tags": [],
            "needs_background": "light"
          }
        },
        {
          "output_type": "stream",
          "text": [
            "puntaje maximo 100.0\n"
          ],
          "name": "stdout"
        }
      ]
    },
    {
      "cell_type": "markdown",
      "metadata": {
        "id": "Jaz4bN3ePZWo"
      },
      "source": [
        "#Tercera Parte"
      ]
    },
    {
      "cell_type": "code",
      "metadata": {
        "id": "smGTrWjCORaO",
        "outputId": "f6912152-07b7-4b20-fc6c-9586293051da",
        "colab": {
          "base_uri": "https://localhost:8080/",
          "height": 417
        }
      },
      "source": [
        "import sklearn \n",
        "from sklearn.datasets import load_iris\n",
        "from sklearn.model_selection import train_test_split\n",
        "iris=load_iris()\n",
        "\n",
        "datosEntrenamiento,datosPrueba,respuestasEntrenamiento, respuestasPrueba = train_test_split (iris['data'],iris['target'])\n",
        "\n",
        "from sklearn.neighbors import KNeighborsClassifier\n",
        "knn=KNeighborsClassifier(n_neighbors=3)\n",
        "knn.fit(datosEntrenamiento,respuestasEntrenamiento)\n",
        "\n",
        "print(knn.score(datosPrueba,respuestaPrueba)*100)\n",
        "\n",
        "\n",
        "from sklearn.tree import  DecisionTreeClassifier \n",
        "\n",
        "arbol = DecisionTreeClassifier(max_depth=5)\n",
        "arbol.fit(datosEntrenamiento,respuestasEntrenamiento)\n",
        "scoreTree5 = arbol.score(datosPrueba, respuestasPrueba)*100\n",
        "print(scoreTree5)\n",
        "\n",
        "\n",
        "from sklearn.neural_network import  MLPClassifier\n",
        "\n",
        "redNeuronal = MLPClassifier(max_iter=60, hidden_layer_sizes=[66,66])\n",
        "redNeuronal.fit(datosEntrenamiento,respuestasEntrenamiento)\n",
        "score = redNeuronal.score(datosPrueba,respuestaPrueba)*100\n",
        "print (score)\n",
        "\n",
        "score_final=[]\n",
        "score_final.append(knn.score(datosPrueba,respuestaPrueba)*100)\n",
        "score_final.append(arbol.score(datosPrueba, respuestasPrueba)*100)\n",
        "score_final.append(redNeuronal.score(datosPrueba,respuestaPrueba)*100)\n",
        "\n",
        "print(\"el puntaje maximo es\", max(score_final))\n",
        "\n",
        "import matplotlib.pyplot as plt\n",
        "clasificador = [\"KNN 3\",\"Arbol Desiciones \",\"Red Neuronal 60\"]\n",
        "plt.bar(clasificador,score_final)\n",
        "plt.ylabel(\"Porcentaje\")\n",
        "plt.xlabel(\"Clasificador\")\n",
        "plt.title(\"Comparacion Clasificadores\")\n",
        "plt.show()"
      ],
      "execution_count": 35,
      "outputs": [
        {
          "output_type": "stream",
          "text": [
            "42.10526315789473\n",
            "100.0\n",
            "42.10526315789473\n",
            "el puntaje maximo es 100.0\n"
          ],
          "name": "stdout"
        },
        {
          "output_type": "stream",
          "text": [
            "/usr/local/lib/python3.6/dist-packages/sklearn/neural_network/_multilayer_perceptron.py:571: ConvergenceWarning: Stochastic Optimizer: Maximum iterations (60) reached and the optimization hasn't converged yet.\n",
            "  % self.max_iter, ConvergenceWarning)\n"
          ],
          "name": "stderr"
        },
        {
          "output_type": "display_data",
          "data": {
            "image/png": "[encoded data removed]",
            "text/plain": [
              "<Figure size 432x288 with 1 Axes>"
            ]
          },
          "metadata": {
            "tags": [],
            "needs_background": "light"
          }
        }
      ]
    }
  ]
}