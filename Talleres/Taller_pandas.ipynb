{
  "nbformat": 4,
  "nbformat_minor": 0,
  "metadata": {
    "colab": {
      "name": "Taller pandas.ipynb",
      "provenance": []
    },
    "kernelspec": {
      "name": "python3",
      "display_name": "Python 3"
    }
  },
  "cells": [
    {
      "cell_type": "code",
      "metadata": {
        "id": "YWYfJSMFwc4y",
        "colab_type": "code",
        "colab": {
          "base_uri": "https://localhost:8080/",
          "height": 204
        },
        "outputId": "55ed28e5-1f4d-4d57-97a6-8712fb2c89ae"
      },
      "source": [
        "Tabla_lista_mercado= pd.DataFrame({\"Enero\":[3600,3100,6000,5600,10000],\n",
        "                  \"Febrero\":[2000,3125,5599,5124,7000],\n",
        "                  \"Marzo\":[2400,3900,7560,1200,5090],\n",
        "                  \"Abril\":[2090,3500,6000,5600,10000]},index=['arroz','pasta','leche','pan','huevos'])\n",
        "Tabla_lista_mercado"
      ],
      "execution_count": 8,
      "outputs": [
        {
          "output_type": "execute_result",
          "data": {
            "text/html": [
              "<div>\n",
              "<style scoped>\n",
              "    .dataframe tbody tr th:only-of-type {\n",
              "        vertical-align: middle;\n",
              "    }\n",
              "\n",
              "    .dataframe tbody tr th {\n",
              "        vertical-align: top;\n",
              "    }\n",
              "\n",
              "    .dataframe thead th {\n",
              "        text-align: right;\n",
              "    }\n",
              "</style>\n",
              "<table border=\"1\" class=\"dataframe\">\n",
              "  <thead>\n",
              "    <tr style=\"text-align: right;\">\n",
              "      <th></th>\n",
              "      <th>Enero</th>\n",
              "      <th>Febrero</th>\n",
              "      <th>Marzo</th>\n",
              "      <th>Abril</th>\n",
              "    </tr>\n",
              "  </thead>\n",
              "  <tbody>\n",
              "    <tr>\n",
              "      <th>arroz</th>\n",
              "      <td>3600</td>\n",
              "      <td>2000</td>\n",
              "      <td>2400</td>\n",
              "      <td>2090</td>\n",
              "    </tr>\n",
              "    <tr>\n",
              "      <th>pasta</th>\n",
              "      <td>3100</td>\n",
              "      <td>3125</td>\n",
              "      <td>3900</td>\n",
              "      <td>3500</td>\n",
              "    </tr>\n",
              "    <tr>\n",
              "      <th>leche</th>\n",
              "      <td>6000</td>\n",
              "      <td>5599</td>\n",
              "      <td>7560</td>\n",
              "      <td>6000</td>\n",
              "    </tr>\n",
              "    <tr>\n",
              "      <th>pan</th>\n",
              "      <td>5600</td>\n",
              "      <td>5124</td>\n",
              "      <td>1200</td>\n",
              "      <td>5600</td>\n",
              "    </tr>\n",
              "    <tr>\n",
              "      <th>huevos</th>\n",
              "      <td>10000</td>\n",
              "      <td>7000</td>\n",
              "      <td>5090</td>\n",
              "      <td>10000</td>\n",
              "    </tr>\n",
              "  </tbody>\n",
              "</table>\n",
              "</div>"
            ],
            "text/plain": [
              "        Enero  Febrero  Marzo  Abril\n",
              "arroz    3600     2000   2400   2090\n",
              "pasta    3100     3125   3900   3500\n",
              "leche    6000     5599   7560   6000\n",
              "pan      5600     5124   1200   5600\n",
              "huevos  10000     7000   5090  10000"
            ]
          },
          "metadata": {
            "tags": []
          },
          "execution_count": 8
        }
      ]
    },
    {
      "cell_type": "code",
      "metadata": {
        "id": "hjfBhfjlsLjJ",
        "colab_type": "code",
        "colab": {
          "base_uri": "https://localhost:8080/",
          "height": 204
        },
        "outputId": "a2d1529e-8b49-49fa-ee47-a9f661a60150"
      },
      "source": [
        "import pandas as pd\n",
        "lista_mercado =pd.Series({\"arroz\":3600,\n",
        "                  \"pasta\":3100,\n",
        "                  \"leche\":6000,\n",
        "                  \"pan\":5600,\n",
        "                  \"huevos\":10000,\n",
        "                  \"fresas\":4800,\n",
        "                  \"helado\":9800,\n",
        "                  \"naranjas\":2600,\n",
        "                  \"garbanzos\":3000,\n",
        "                  \"harina\":2316})\n",
        "print(lista_mercado)"
      ],
      "execution_count": 3,
      "outputs": [
        {
          "output_type": "stream",
          "text": [
            "arroz         3600\n",
            "pasta         3100\n",
            "leche         6000\n",
            "pan           5600\n",
            "huevos       10000\n",
            "fresas        4800\n",
            "helado        9800\n",
            "naranjas      2600\n",
            "garbanzos     3000\n",
            "harina        2316\n",
            "dtype: int64\n"
          ],
          "name": "stdout"
        }
      ]
    },
    {
      "cell_type": "markdown",
      "metadata": {
        "id": "dJ_u9U2hzCfP",
        "colab_type": "text"
      },
      "source": [
        "# Febrero y Marzo\n"
      ]
    },
    {
      "cell_type": "code",
      "metadata": {
        "id": "Z2Z9ORnzzF6P",
        "colab_type": "code",
        "colab": {
          "base_uri": "https://localhost:8080/",
          "height": 204
        },
        "outputId": "6971cf24-e383-41ba-e5e7-1b547258bbc5"
      },
      "source": [
        "Tabla_lista_mercado [[\"Febrero\",\"Marzo\"]]"
      ],
      "execution_count": 10,
      "outputs": [
        {
          "output_type": "execute_result",
          "data": {
            "text/html": [
              "<div>\n",
              "<style scoped>\n",
              "    .dataframe tbody tr th:only-of-type {\n",
              "        vertical-align: middle;\n",
              "    }\n",
              "\n",
              "    .dataframe tbody tr th {\n",
              "        vertical-align: top;\n",
              "    }\n",
              "\n",
              "    .dataframe thead th {\n",
              "        text-align: right;\n",
              "    }\n",
              "</style>\n",
              "<table border=\"1\" class=\"dataframe\">\n",
              "  <thead>\n",
              "    <tr style=\"text-align: right;\">\n",
              "      <th></th>\n",
              "      <th>Febrero</th>\n",
              "      <th>Marzo</th>\n",
              "    </tr>\n",
              "  </thead>\n",
              "  <tbody>\n",
              "    <tr>\n",
              "      <th>arroz</th>\n",
              "      <td>2000</td>\n",
              "      <td>2400</td>\n",
              "    </tr>\n",
              "    <tr>\n",
              "      <th>pasta</th>\n",
              "      <td>3125</td>\n",
              "      <td>3900</td>\n",
              "    </tr>\n",
              "    <tr>\n",
              "      <th>leche</th>\n",
              "      <td>5599</td>\n",
              "      <td>7560</td>\n",
              "    </tr>\n",
              "    <tr>\n",
              "      <th>pan</th>\n",
              "      <td>5124</td>\n",
              "      <td>1200</td>\n",
              "    </tr>\n",
              "    <tr>\n",
              "      <th>huevos</th>\n",
              "      <td>7000</td>\n",
              "      <td>5090</td>\n",
              "    </tr>\n",
              "  </tbody>\n",
              "</table>\n",
              "</div>"
            ],
            "text/plain": [
              "        Febrero  Marzo\n",
              "arroz      2000   2400\n",
              "pasta      3125   3900\n",
              "leche      5599   7560\n",
              "pan        5124   1200\n",
              "huevos     7000   5090"
            ]
          },
          "metadata": {
            "tags": []
          },
          "execution_count": 10
        }
      ]
    },
    {
      "cell_type": "markdown",
      "metadata": {
        "id": "b8dieLUm0YGF",
        "colab_type": "text"
      },
      "source": [
        ""
      ]
    },
    {
      "cell_type": "markdown",
      "metadata": {
        "id": "oSnBujglztKg",
        "colab_type": "text"
      },
      "source": [
        "#Abril\n"
      ]
    },
    {
      "cell_type": "code",
      "metadata": {
        "id": "_nwRP7ArzvH3",
        "colab_type": "code",
        "colab": {
          "base_uri": "https://localhost:8080/",
          "height": 204
        },
        "outputId": "277c892d-b87d-4106-c538-884185e729f0"
      },
      "source": [
        "Tabla_lista_mercado [[\"Abril\"]]"
      ],
      "execution_count": 11,
      "outputs": [
        {
          "output_type": "execute_result",
          "data": {
            "text/html": [
              "<div>\n",
              "<style scoped>\n",
              "    .dataframe tbody tr th:only-of-type {\n",
              "        vertical-align: middle;\n",
              "    }\n",
              "\n",
              "    .dataframe tbody tr th {\n",
              "        vertical-align: top;\n",
              "    }\n",
              "\n",
              "    .dataframe thead th {\n",
              "        text-align: right;\n",
              "    }\n",
              "</style>\n",
              "<table border=\"1\" class=\"dataframe\">\n",
              "  <thead>\n",
              "    <tr style=\"text-align: right;\">\n",
              "      <th></th>\n",
              "      <th>Abril</th>\n",
              "    </tr>\n",
              "  </thead>\n",
              "  <tbody>\n",
              "    <tr>\n",
              "      <th>arroz</th>\n",
              "      <td>2090</td>\n",
              "    </tr>\n",
              "    <tr>\n",
              "      <th>pasta</th>\n",
              "      <td>3500</td>\n",
              "    </tr>\n",
              "    <tr>\n",
              "      <th>leche</th>\n",
              "      <td>6000</td>\n",
              "    </tr>\n",
              "    <tr>\n",
              "      <th>pan</th>\n",
              "      <td>5600</td>\n",
              "    </tr>\n",
              "    <tr>\n",
              "      <th>huevos</th>\n",
              "      <td>10000</td>\n",
              "    </tr>\n",
              "  </tbody>\n",
              "</table>\n",
              "</div>"
            ],
            "text/plain": [
              "        Abril\n",
              "arroz    2090\n",
              "pasta    3500\n",
              "leche    6000\n",
              "pan      5600\n",
              "huevos  10000"
            ]
          },
          "metadata": {
            "tags": []
          },
          "execution_count": 11
        }
      ]
    }
  ]
}