{
  "nbformat": 4,
  "nbformat_minor": 0,
  "metadata": {
    "colab": {
      "name": "Programación Funcional.ipynb",
      "provenance": [],
      "collapsed_sections": []
    },
    "kernelspec": {
      "name": "python3",
      "display_name": "Python 3"
    }
  },
  "cells": [
    {
      "cell_type": "markdown",
      "metadata": {
        "id": "05NWknLM26Ez",
        "colab_type": "text"
      },
      "source": [
        "#Lambda\n"
      ]
    },
    {
      "cell_type": "code",
      "metadata": {
        "id": "e0zxCLQbtedn",
        "colab_type": "code",
        "colab": {
          "base_uri": "https://localhost:8080/",
          "height": 102
        },
        "outputId": "86017f30-f202-4a76-c846-6e7ac675285b"
      },
      "source": [
        "def line_design ():\n",
        "  print ('#'*60)\n",
        "line_design ()  \n",
        "\n",
        "line = lambda : ('#'*60)\n",
        "print (\"Ahora usando lambdas\")\n",
        "line ()\n",
        "\n",
        "# Caso 2\n",
        "def line_design_2 (cantidad):\n",
        "  print ('#'*cantidad)\n",
        "line_design_2(10)\n",
        "line = lambda cantidad : print ('#'*cantidad)\n",
        "print (\"Con lambdas\")\n",
        "line (10)"
      ],
      "execution_count": null,
      "outputs": [
        {
          "output_type": "stream",
          "text": [
            "############################################################\n",
            "Ahora usando lambdas\n",
            "##########\n",
            "Con lambdas\n",
            "##########\n"
          ],
          "name": "stdout"
        }
      ]
    },
    {
      "cell_type": "markdown",
      "metadata": {
        "id": "ClKz7ho7vY3J",
        "colab_type": "text"
      },
      "source": [
        "las lambdas permiten entradas\n",
        "\n",
        "# Calculadora con Lambda"
      ]
    },
    {
      "cell_type": "code",
      "metadata": {
        "id": "3TL7apDGvbYB",
        "colab_type": "code",
        "colab": {
          "base_uri": "https://localhost:8080/",
          "height": 102
        },
        "outputId": "1298a8c3-6379-4d07-cf7c-5d538a12d592"
      },
      "source": [
        "sumar = lambda valor1 = 0, valor2 = 0 : valor1 + valor2\n",
        "print(sumar(1,2))\n",
        "\n",
        "resta = lambda valor1 = 0, valor2 = 0 : valor1 - valor2\n",
        "print(resta(1,2))\n",
        "\n",
        "multiplicacion = lambda valor1 = 0, valor2 = 0 : valor1 * valor2\n",
        "print(multiplicacion(42,48))\n",
        "\n",
        "dividir = lambda valor1 = 0, valor2 = 0 : valor1 / valor2\n",
        "print(dividir(1,2))\n",
        "\n",
        "#lambdas dentro de labmdas\n",
        "calculadora = lambda operacion, valor1=0,valor2=0 : print (operacion(valor1,valor2))\n",
        "calculadora (resta, 83,87)"
      ],
      "execution_count": null,
      "outputs": [
        {
          "output_type": "stream",
          "text": [
            "3\n",
            "-1\n",
            "2016\n",
            "0.5\n",
            "-4\n"
          ],
          "name": "stdout"
        }
      ]
    },
    {
      "cell_type": "markdown",
      "metadata": {
        "id": "D8zQXtnMxk8x",
        "colab_type": "text"
      },
      "source": [
        "#Otros casos de usos\n",
        "#Map\n"
      ]
    },
    {
      "cell_type": "code",
      "metadata": {
        "id": "ucWNXjYmwk1K",
        "colab_type": "code",
        "colab": {
          "base_uri": "https://localhost:8080/",
          "height": 85
        },
        "outputId": "4069ab00-3c48-457d-b735-aa95a6545a36"
      },
      "source": [
        "listaNotas = [3,1,2,3,4]\n",
        "for i in range (len(listaNotas)):\n",
        "  listaNotas [i] += 1\n",
        "print (listaNotas)\n",
        "\n",
        "#Metodo Map\n",
        "\n",
        "sumar1 = lambda valor : valor1+1\n",
        "adicionar = list (map(sumar1, listaNotas)) \n",
        "print (adicionar)\n",
        "\n",
        "for i in range (len(listaNotas)):\n",
        "  listaNotas [i] = listaNotas[i]**2\n",
        "print (listaNotas)\n",
        "exponente = lambda elemento : elemento**2\n",
        "listaCuadrada = list (map(exponente,listaNotas))\n",
        "print (listaCuadrada)"
      ],
      "execution_count": null,
      "outputs": [
        {
          "output_type": "stream",
          "text": [
            "[4, 2, 3, 4, 5]\n",
            "[1, 1, 1, 1, 1]\n",
            "[16, 4, 9, 16, 25]\n",
            "[256, 16, 81, 256, 625]\n"
          ],
          "name": "stdout"
        }
      ]
    },
    {
      "cell_type": "markdown",
      "metadata": {
        "id": "JnqU0ilC0Wjx",
        "colab_type": "text"
      },
      "source": [
        "#Filter\n"
      ]
    },
    {
      "cell_type": "code",
      "metadata": {
        "id": "j7Yf2PXr0YHR",
        "colab_type": "code",
        "colab": {
          "base_uri": "https://localhost:8080/",
          "height": 34
        },
        "outputId": "af51a4a0-1923-4e4c-ef2b-e56a9410f5b6"
      },
      "source": [
        "listaNumeros = [1,2,3,45,23,4,8,9,20]\n",
        "listaPares = []\n",
        "for numero in listaNumeros:\n",
        "  if numero % 2 == 0:\n",
        "    listaPares.append(numero)\n",
        "print (listaPares)\n",
        "\n",
        "par = lambda elemento: elemento %2 == 0\n",
        "pares = list (filter(par,listaNumeros))\n"
      ],
      "execution_count": null,
      "outputs": [
        {
          "output_type": "stream",
          "text": [
            "[2, 4, 8, 20]\n"
          ],
          "name": "stdout"
        }
      ]
    },
    {
      "cell_type": "markdown",
      "metadata": {
        "id": "I2IP313FFTFL",
        "colab_type": "text"
      },
      "source": [
        "#Reduce\n",
        "\n",
        "Hace que la lista se vuelva un número "
      ]
    },
    {
      "cell_type": "code",
      "metadata": {
        "id": "4tDbbJMLFab0",
        "colab_type": "code",
        "colab": {
          "base_uri": "https://localhost:8080/",
          "height": 68
        },
        "outputId": "41b21523-002f-4918-ac10-c6e777abef57"
      },
      "source": [
        "from functools import reduce\n",
        "#Ejemplo 1 reduce\n",
        "lista = [1,2,3,4]\n",
        "acumulador = 0\n",
        "# Metodo 1 \n",
        "for elemento in lista:\n",
        "  acumulador += elemento\n",
        "print (acumulador/len(lista))\n",
        "\n",
        "\n",
        "# Metodo 2\n",
        "sumatoria = lambda acumulador = 0, elemento = 0: acumulador + elemento\n",
        "resultado = reduce (sumatoria, lista)/len(lista)\n",
        "print (resultado)\n",
        "# Metodo 2 En una sola linea (gasta menos memoria)\n",
        "print (reduce (lambda acumulador = 0, elemento = 0: acumulador + elemento,\n",
        "               lista)/len(lista))\n",
        "\n"
      ],
      "execution_count": 21,
      "outputs": [
        {
          "output_type": "stream",
          "text": [
            "2.5\n",
            "2.5\n",
            "2.5\n"
          ],
          "name": "stdout"
        }
      ]
    },
    {
      "cell_type": "code",
      "metadata": {
        "id": "16UXzZ69IEhV",
        "colab_type": "code",
        "colab": {
          "base_uri": "https://localhost:8080/",
          "height": 68
        },
        "outputId": "ca37bade-3863-47ce-ab8a-dba27e29036f"
      },
      "source": [
        "#Ejemplo 2 Reduce\n",
        "lista = [1,2,3,4]\n",
        "acumulador = 1\n",
        "\n",
        "for elemento in lista:\n",
        "  acumulador *= elemento\n",
        "print (acumulador)\n",
        "\n",
        "multiplicacion = lambda acumulador = 1, elemento = 0: acumulador * elemento\n",
        "resultado = reduce (multiplicacion, lista)\n",
        "print (resultado)\n",
        "\n",
        "print (reduce(lambda acumulador=1, elemento=0: acumulador*elemento,lista))"
      ],
      "execution_count": null,
      "outputs": [
        {
          "output_type": "stream",
          "text": [
            "24\n",
            "24\n",
            "24\n"
          ],
          "name": "stdout"
        }
      ]
    },
    {
      "cell_type": "markdown",
      "metadata": {
        "id": "_3y30ZJBJUT6",
        "colab_type": "text"
      },
      "source": [
        "#Taller\n",
        "funciones lambda"
      ]
    },
    {
      "cell_type": "code",
      "metadata": {
        "id": "8pB8CxTLJWE9",
        "colab_type": "code",
        "colab": {
          "base_uri": "https://localhost:8080/",
          "height": 34
        },
        "outputId": "574e0e49-8a60-451a-8c6a-876457a9cf09"
      },
      "source": [
        "#\n",
        "resultado = lambda numero = 0, exponente = 0: numero**exponente\n",
        "print (resultado(2,3))"
      ],
      "execution_count": null,
      "outputs": [
        {
          "output_type": "stream",
          "text": [
            "8\n"
          ],
          "name": "stdout"
        }
      ]
    },
    {
      "cell_type": "code",
      "metadata": {
        "id": "lMySvvFTNds9",
        "colab_type": "code",
        "colab": {
          "base_uri": "https://localhost:8080/",
          "height": 88
        },
        "outputId": "41c52a7e-9574-4395-d70c-368da163a7ed"
      },
      "source": [
        "#Muestra en la pantalla n veces una palabra\n",
        "veces_palabra = lambda cantidad,palabra: (palabra*cantidad)\n",
        "palabra = str (input(\"Palabra que desea imprimir:\"))\n",
        "cantidad= int(input(\"Cuantas veces desea imprimir la palabra?:\"))\n",
        "veces_palabra (palabra,cantidad)"
      ],
      "execution_count": null,
      "outputs": [
        {
          "output_type": "stream",
          "text": [
            "Palabra que desea imprimir:Bradley\n",
            "Cuantas veces desea imprimir la palabra?:12\n"
          ],
          "name": "stdout"
        },
        {
          "output_type": "execute_result",
          "data": {
            "application/vnd.google.colaboratory.intrinsic+json": {
              "type": "string"
            },
            "text/plain": [
              "'BradleyBradleyBradleyBradleyBradleyBradleyBradleyBradleyBradleyBradleyBradleyBradley'"
            ]
          },
          "metadata": {
            "tags": []
          },
          "execution_count": 27
        }
      ]
    },
    {
      "cell_type": "code",
      "metadata": {
        "id": "EGbVYcuMPWak",
        "colab_type": "code",
        "colab": {
          "base_uri": "https://localhost:8080/",
          "height": 34
        },
        "outputId": "d0a441bf-2f3a-4a0b-e736-1fa35b3034e7"
      },
      "source": [
        "#numero maximo de dos listas ingresadas\n",
        "lista1 = [1,2,3,4]\n",
        "lista2 = [5,6,7,8]\n",
        "\n",
        "numero_max = lambda lista1,lista2: print(max (lista1), max (lista2))\n",
        "numero_max (lista1,lista2)\n",
        "\n",
        "\n"
      ],
      "execution_count": null,
      "outputs": [
        {
          "output_type": "stream",
          "text": [
            "4 8\n"
          ],
          "name": "stdout"
        }
      ]
    },
    {
      "cell_type": "markdown",
      "metadata": {
        "id": "761PyZx7Q0YX",
        "colab_type": "text"
      },
      "source": [
        "#Funciones Map\n"
      ]
    },
    {
      "cell_type": "code",
      "metadata": {
        "id": "xPwyMZSgQ2Yr",
        "colab_type": "code",
        "colab": {
          "base_uri": "https://localhost:8080/",
          "height": 85
        },
        "outputId": "db6690ad-9f5c-417d-dc9e-2e1c9090ca69"
      },
      "source": [
        "#Cuadrado de cada elemento de la lista\n",
        "lista = [1,2,3,4,5]\n",
        "cuadrado1 = lambda elemento : elemento**2\n",
        "listaCuadrada = list (map(cuadrado1,lista))\n",
        "print (listaCuadrada)\n",
        "\n",
        "divididos = lambda elemento : elemento / (max(lista))\n",
        "listaDividida = list (map(divididos,lista))\n",
        "print (listaDividida)\n",
        "\n",
        "numero_resta = int (input(\"Que numero desea restar?:\"))\n",
        "restado = lambda elemento : elemento - numero_resta\n",
        "listaResta = list (map(restado,lista))\n",
        "print (listaResta)"
      ],
      "execution_count": 4,
      "outputs": [
        {
          "output_type": "stream",
          "text": [
            "[1, 4, 9, 16, 25]\n",
            "[0.2, 0.4, 0.6, 0.8, 1.0]\n",
            "Que numero desea restar?:4\n",
            "[-3, -2, -1, 0, 1]\n"
          ],
          "name": "stdout"
        }
      ]
    },
    {
      "cell_type": "markdown",
      "metadata": {
        "id": "_p1ZonHISsUj",
        "colab_type": "text"
      },
      "source": [
        "#Funciones Filter"
      ]
    },
    {
      "cell_type": "code",
      "metadata": {
        "id": "grQGbciMSwSw",
        "colab_type": "code",
        "colab": {
          "base_uri": "https://localhost:8080/",
          "height": 85
        },
        "outputId": "4832dff2-b12b-4f78-96d7-27be89c832f1"
      },
      "source": [
        "listaFilter = [2,4,28,7,21,49,6,88,44,53,79,103,12,15,33]\n",
        "divisible = lambda elemento: elemento % 7 == 0\n",
        "numeros_divisibles = list (filter(divisible,listaFilter))\n",
        "print (numeros_divisibles)\n",
        "\n",
        "#Obtener los nombres con menos de 5 letras\n",
        "listaNombres = [\"Ysabella\",\"Bradley\",\"Vale\",\"Jane\"]\n",
        "tamano_nombre = lambda listaNombres : len(listaNombres) < 5\n",
        "print (list(filter(tamano_nombre,listaNombres)))\n",
        "\n",
        "#Lista numeros pares\n",
        "numeros_pares = lambda elemento: elemento % 2 == 0\n",
        "print (list(filter(numeros_pares,listaFilter)))\n",
        "\n",
        "#Lista numeros impares\n",
        "numeros_impares = lambda elemento: elemento % 2 != 0\n",
        "print (list(filter(numeros_impares,listaFilter)))"
      ],
      "execution_count": 15,
      "outputs": [
        {
          "output_type": "stream",
          "text": [
            "[28, 7, 21, 49]\n",
            "['Vale', 'Jane']\n",
            "[2, 4, 28, 6, 88, 44, 12]\n",
            "[7, 21, 49, 53, 79, 103, 15, 33]\n"
          ],
          "name": "stdout"
        }
      ]
    },
    {
      "cell_type": "markdown",
      "metadata": {
        "id": "JRcfXQ8kWcc4",
        "colab_type": "text"
      },
      "source": [
        "#Funciones Reduce"
      ]
    },
    {
      "cell_type": "code",
      "metadata": {
        "id": "FSR7c-p3Wf3g",
        "colab_type": "code",
        "colab": {
          "base_uri": "https://localhost:8080/",
          "height": 34
        },
        "outputId": "403b0c1e-27b2-4e16-f8ea-94cf42ce398a"
      },
      "source": [
        "from functools import reduce\n",
        "#Obtener la resta de todos los elementos de una lista\n",
        "lista = [1,2,3,4,5,6,7,8,9]\n",
        "acumlador1 = 0\n",
        "resta_lista = lambda acumulador1 = 0, elemento = 0: acumulador1 - elemento\n",
        "resultado = reduce (resta_lista, lista) #/len(lista)\n",
        "print (resultado)\n",
        "\n",
        "#Dada una lista de palabras debe devolver una frase\n",
        "#listaPalabras = []\n",
        "#elementoLista = \" \"\n",
        "#decision = str (input (\"Que palabras desea agregar a la lista?:\"))\n",
        "#frase_lista = lambda elementoLista\n",
        "#listacompleta = reduce (frase_lista,listaPalabras)\n",
        "#print (listacompleta)\n",
        "\n",
        "#lista dividida 2 y suma de resultados\n",
        "\n"
      ],
      "execution_count": 39,
      "outputs": [
        {
          "output_type": "stream",
          "text": [
            "-43\n"
          ],
          "name": "stdout"
        }
      ]
    }
  ]
}