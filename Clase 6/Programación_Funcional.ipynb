{
  "nbformat": 4,
  "nbformat_minor": 0,
  "metadata": {
    "colab": {
      "name": "Programación Funcional.ipynb",
      "provenance": [],
      "collapsed_sections": []
    },
    "kernelspec": {
      "name": "python3",
      "display_name": "Python 3"
    }
  },
  "cells": [
    {
      "cell_type": "markdown",
      "metadata": {
        "id": "05NWknLM26Ez",
        "colab_type": "text"
      },
      "source": [
        "#Lambda\n"
      ]
    },
    {
      "cell_type": "code",
      "metadata": {
        "id": "e0zxCLQbtedn",
        "colab_type": "code",
        "colab": {
          "base_uri": "https://localhost:8080/",
          "height": 102
        },
        "outputId": "86017f30-f202-4a76-c846-6e7ac675285b"
      },
      "source": [
        "def line_design ():\n",
        "  print ('#'*60)\n",
        "line_design ()  \n",
        "\n",
        "line = lambda : ('#'*60)\n",
        "print (\"Ahora usando lambdas\")\n",
        "line ()\n",
        "\n",
        "# Caso 2\n",
        "def line_design_2 (cantidad):\n",
        "  print ('#'*cantidad)\n",
        "line_design_2(10)\n",
        "line = lambda cantidad : print ('#'*cantidad)\n",
        "print (\"Con lambdas\")\n",
        "line (10)"
      ],
      "execution_count": 6,
      "outputs": [
        {
          "output_type": "stream",
          "text": [
            "############################################################\n",
            "Ahora usando lambdas\n",
            "##########\n",
            "Con lambdas\n",
            "##########\n"
          ],
          "name": "stdout"
        }
      ]
    },
    {
      "cell_type": "markdown",
      "metadata": {
        "id": "ClKz7ho7vY3J",
        "colab_type": "text"
      },
      "source": [
        "las lambdas permiten entradas\n",
        "\n",
        "# Calculadora con Lambda"
      ]
    },
    {
      "cell_type": "code",
      "metadata": {
        "id": "3TL7apDGvbYB",
        "colab_type": "code",
        "colab": {
          "base_uri": "https://localhost:8080/",
          "height": 102
        },
        "outputId": "1298a8c3-6379-4d07-cf7c-5d538a12d592"
      },
      "source": [
        "sumar = lambda valor1 = 0, valor2 = 0 : valor1 + valor2\n",
        "print(sumar(1,2))\n",
        "\n",
        "resta = lambda valor1 = 0, valor2 = 0 : valor1 - valor2\n",
        "print(resta(1,2))\n",
        "\n",
        "multiplicacion = lambda valor1 = 0, valor2 = 0 : valor1 * valor2\n",
        "print(multiplicacion(42,48))\n",
        "\n",
        "dividir = lambda valor1 = 0, valor2 = 0 : valor1 / valor2\n",
        "print(dividir(1,2))\n",
        "\n",
        "#lambdas dentro de labmdas\n",
        "calculadora = lambda operacion, valor1=0,valor2=0 : print (operacion(valor1,valor2))\n",
        "calculadora (resta, 83,87)"
      ],
      "execution_count": 6,
      "outputs": [
        {
          "output_type": "stream",
          "text": [
            "3\n",
            "-1\n",
            "2016\n",
            "0.5\n",
            "-4\n"
          ],
          "name": "stdout"
        }
      ]
    },
    {
      "cell_type": "markdown",
      "metadata": {
        "id": "D8zQXtnMxk8x",
        "colab_type": "text"
      },
      "source": [
        "#Otros casos de usos\n",
        "#Map\n"
      ]
    },
    {
      "cell_type": "code",
      "metadata": {
        "id": "ucWNXjYmwk1K",
        "colab_type": "code",
        "colab": {
          "base_uri": "https://localhost:8080/",
          "height": 85
        },
        "outputId": "4069ab00-3c48-457d-b735-aa95a6545a36"
      },
      "source": [
        "listaNotas = [3,1,2,3,4]\n",
        "for i in range (len(listaNotas)):\n",
        "  listaNotas [i] += 1\n",
        "print (listaNotas)\n",
        "\n",
        "#Metodo Map\n",
        "\n",
        "sumar1 = lambda valor : valor1+1\n",
        "adicionar = list (map(sumar1, listaNotas)) \n",
        "print (adicionar)\n",
        "\n",
        "for i in range (len(listaNotas)):\n",
        "  listaNotas [i] = listaNotas[i]**2\n",
        "print (listaNotas)\n",
        "exponente = lambda elemento : elemento**2\n",
        "listaCuadrada = list (map(exponente,listaNotas))\n",
        "print (listaCuadrada)"
      ],
      "execution_count": 16,
      "outputs": [
        {
          "output_type": "stream",
          "text": [
            "[4, 2, 3, 4, 5]\n",
            "[1, 1, 1, 1, 1]\n",
            "[16, 4, 9, 16, 25]\n",
            "[256, 16, 81, 256, 625]\n"
          ],
          "name": "stdout"
        }
      ]
    },
    {
      "cell_type": "markdown",
      "metadata": {
        "id": "JnqU0ilC0Wjx",
        "colab_type": "text"
      },
      "source": [
        "#Filter\n"
      ]
    },
    {
      "cell_type": "code",
      "metadata": {
        "id": "j7Yf2PXr0YHR",
        "colab_type": "code",
        "colab": {}
      },
      "source": [
        "listaNumeros = [1,2,3,45,23,4,8,9,20]\n",
        "listaPares = []\n",
        "for numero in listaNumeros:\n",
        "  if numero % 2 == 0:\n",
        "    listaPares.append(numero)\n",
        "print (listaPares)\n",
        "\n",
        "par = lambda elemento: elemento %2 == 0\n",
        "pares = list (filter(par,listaNumeros))\n"
      ],
      "execution_count": null,
      "outputs": []
    }
  ]
}